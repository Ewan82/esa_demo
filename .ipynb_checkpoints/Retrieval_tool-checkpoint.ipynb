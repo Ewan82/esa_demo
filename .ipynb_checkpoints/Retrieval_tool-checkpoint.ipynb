{
 "cells": [
  {
   "cell_type": "code",
   "execution_count": null,
   "metadata": {
    "collapsed": true,
    "deletable": true,
    "editable": true
   },
   "outputs": [],
   "source": [
    "import run_retrieval as rrn\n",
    "reload(rrn)\n",
    "rrn.run_retrieval_tool(site='508_med', out_dir='retrieval_tool_examples/mni_508_pri', date_start='20170527', date_end='20170603', prior=True)"
   ]
  },
  {
   "cell_type": "code",
   "execution_count": null,
   "metadata": {
    "collapsed": true,
    "deletable": true,
    "editable": true
   },
   "outputs": [],
   "source": [
    "import plot_ret as pr\n",
    "import matplotlib.pyplot as plt\n",
    "%matplotlib inline\n",
    "pr.plot_var_paper('lai', 'retrieval_tool_examples/mni_508_pri')\n",
    "plt.show()"
   ]
  },
  {
   "cell_type": "code",
   "execution_count": null,
   "metadata": {
    "collapsed": true,
    "deletable": true,
    "editable": true
   },
   "outputs": [],
   "source": [
    "import plot_ret as pr\n",
    "import matplotlib.pyplot as plt\n",
    "%matplotlib inline\n",
    "pr.plot_var_paper('lai', 'retrieval_tool_examples/mni_508_20170527_20170603_pri')\n",
    "plt.show()"
   ]
  },
  {
   "cell_type": "code",
   "execution_count": null,
   "metadata": {
    "collapsed": true,
    "deletable": true,
    "editable": true
   },
   "outputs": [],
   "source": [
    "rrn.run_retrieval_tool(site='542_high', out_dir='retrieval_tool_examples/mni_542_nopri', date_start='20170324', date_end='20170405', prior=False)"
   ]
  },
  {
   "cell_type": "code",
   "execution_count": null,
   "metadata": {
    "collapsed": true,
    "deletable": true,
    "editable": true
   },
   "outputs": [],
   "source": [
    "pr.plot_var_paper('lai', 'retrieval_tool_examples/mni_542_20170324_20170405_nopri')\n",
    "plt.show()"
   ]
  },
  {
   "cell_type": "code",
   "execution_count": null,
   "metadata": {
    "collapsed": true,
    "deletable": true,
    "editable": true
   },
   "outputs": [],
   "source": [
    "pr.plot_var_paper('sm', 'retrieval_tool_examples/mni_542_20170324_20170405_nopri')\n",
    "plt.show()"
   ]
  }
 ],
 "metadata": {
  "kernelspec": {
   "display_name": "Python 2",
   "language": "python",
   "name": "python2"
  },
  "language_info": {
   "codemirror_mode": {
    "name": "ipython",
    "version": 2
   },
   "file_extension": ".py",
   "mimetype": "text/x-python",
   "name": "python",
   "nbconvert_exporter": "python",
   "pygments_lexer": "ipython2",
   "version": "2.7.13"
  }
 },
 "nbformat": 4,
 "nbformat_minor": 0
}
