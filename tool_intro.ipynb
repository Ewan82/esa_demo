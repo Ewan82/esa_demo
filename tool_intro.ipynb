{
 "cells": [
  {
   "cell_type": "code",
   "execution_count": 1,
   "metadata": {},
   "outputs": [],
   "source": [
    "import os, rcmd, sys, plot_syn\n",
    "%matplotlib inline"
   ]
  },
  {
   "cell_type": "code",
   "execution_count": 2,
   "metadata": {},
   "outputs": [
    {
     "data": {
      "text/plain": [
       "0"
      ]
     },
     "execution_count": 2,
     "metadata": {},
     "output_type": "execute_result"
    }
   ],
   "source": [
    "rcmd.run_command('./createdir_example_synthetic.sh')"
   ]
  },
  {
   "cell_type": "code",
   "execution_count": 3,
   "metadata": {},
   "outputs": [
    {
     "name": "stdout",
     "output_type": "stream",
     "text": [
      "/home/michael/esa_demo_new.git/tool_intro/example_synthetic\n"
     ]
    }
   ],
   "source": [
    "cd tool_intro/example_synthetic/"
   ]
  },
  {
   "cell_type": "code",
   "execution_count": 4,
   "metadata": {
    "scrolled": true
   },
   "outputs": [
    {
     "name": "stdout",
     "output_type": "stream",
     "text": [
      "bin/rs_setup.py\n",
      "------------------------------\n",
      "Retrieval System Setup properly finished, Retrieval System ready for use!\n",
      "------------------------------\n"
     ]
    },
    {
     "data": {
      "text/plain": [
       "0"
      ]
     },
     "execution_count": 4,
     "metadata": {},
     "output_type": "execute_result"
    }
   ],
   "source": [
    "# terminate the installation\n",
    "rcmd.run_command('make setup')"
   ]
  },
  {
   "cell_type": "code",
   "execution_count": 2,
   "metadata": {},
   "outputs": [
    {
     "name": "stdout",
     "output_type": "stream",
     "text": [
      "ls: cannot access 'input/': No such file or directory\r\n"
     ]
    }
   ],
   "source": [
    "ls -ralt input/"
   ]
  },
  {
   "cell_type": "code",
   "execution_count": 7,
   "metadata": {},
   "outputs": [
    {
     "name": "stdout",
     "output_type": "stream",
     "text": [
      "nos2: simulate.x runretrieval.x\r\n",
      "\t$(MAKE) clean_exp\r\n",
      "\t$(MAKE) presynthetic MISSION_LST=\"S1A S1B\"\r\n",
      "\t$(MAKE) synthetic\r\n",
      "\t$(MAKE) retrieval\r\n",
      "\t$(MAKE) save_exp SAVDIR=resdir_$(EXPV)_$@\r\n",
      "\r\n",
      "\r\n",
      "runretrieval.x: $(OBJDIR)/runretrieval.o $(LIBRETR) $(LIBDERIV) $(LIBMODEL) $(LIBSUPPORT) $(LIBLBFGSB) $(LIBEIS)\r\n",
      "\t$(FC) -o $@ $(FFOPTI) $^ $(LDNCLIB)\r\n"
     ]
    }
   ],
   "source": [
    "cat ../mk.nos2.txt"
   ]
  },
  {
   "cell_type": "code",
   "execution_count": 5,
   "metadata": {},
   "outputs": [
    {
     "name": "stdout",
     "output_type": "stream",
     "text": [
      "gfortran -Wall -ffixed-line-length-132 -fdefault-real-8 -fdefault-double-8 -I/usr/include -Iobjs -I/home/users/db903833/src/netcdf/install-4.3.1/include -Jobjs -O3 -funroll-loops -floop-block -ftree-loop-distribution -march=native  -c -o objs/mo_sensimul_s1.o src/sense/mo_sensimul_s1.f90\n",
      "gfortran -Wall -ffixed-line-length-132 -fdefault-real-8 -fdefault-double-8 -I/usr/include -Iobjs -I/home/users/db903833/src/netcdf/install-4.3.1/include -Jobjs -O3 -funroll-loops -floop-block -ftree-loop-distribution -march=native  -c -o objs/mo_sensimul_s2.o src/semid/mo_sensimul_s2.f90\n",
      "gfortran -Wall -ffixed-line-length-132 -fdefault-real-8 -fdefault-double-8 -I/usr/include -Iobjs -I/home/users/db903833/src/netcdf/install-4.3.1/include -Jobjs -O3 -funroll-loops -floop-block -ftree-loop-distribution -march=native  -c -o objs/mo_sensimul.o src/simulator/mo_sensimul.f90\n",
      "gfortran -Wall -ffixed-line-length-132 -fdefault-real-8 -fdefault-double-8 -I/usr/include -Iobjs -I/home/users/db903833/src/netcdf/install-4.3.1/include -Jobjs -O3 -funroll-loops -floop-block -ftree-loop-distribution -march=native  -c -o objs/runsim.o driver/runsim.f90\n",
      "gfortran -Wall -ffixed-line-length-132 -fdefault-real-8 -fdefault-double-8 -I/usr/include -Iobjs -I/home/users/db903833/src/netcdf/install-4.3.1/include -Jobjs -O3 -funroll-loops -floop-block -ftree-loop-distribution -march=native  -c -o objs/prospect.redux.o src/semid/prospect.redux.f\n",
      "gfortran -Wall -ffixed-line-length-132 -fdefault-real-8 -fdefault-double-8 -I/usr/include -Iobjs -I/home/users/db903833/src/netcdf/install-4.3.1/include -Jobjs -O3 -funroll-loops -floop-block -ftree-loop-distribution -march=native  -c -o objs/semiDbrf.o src/semid/semiDbrf.f\n",
      "gfortran -Wall -ffixed-line-length-132 -fdefault-real-8 -fdefault-double-8 -I/usr/include -Iobjs -I/home/users/db903833/src/netcdf/install-4.3.1/include -Jobjs -O3 -funroll-loops -floop-block -ftree-loop-distribution -march=native  -c -o objs/semiDbrfe.o src/semid/semiDbrfe.f\n",
      "gfortran -Wall -ffixed-line-length-132 -fdefault-real-8 -fdefault-double-8 -I/usr/include -Iobjs -I/home/users/db903833/src/netcdf/install-4.3.1/include -Jobjs -O3 -funroll-loops -floop-block -ftree-loop-distribution -march=native  -c -o objs/semiDtools.o src/semid/semiDtools.f\n",
      "gfortran -Wall -ffixed-line-length-132 -fdefault-real-8 -fdefault-double-8 -I/usr/include -Iobjs -I/home/users/db903833/src/netcdf/install-4.3.1/include -Jobjs -O3 -funroll-loops -floop-block -ftree-loop-distribution -march=native  -c -o objs/simulate.o src/simulator/simulate.f90\n",
      "gfortran -Wall -ffixed-line-length-132 -fdefault-real-8 -fdefault-double-8 -I/usr/include -Iobjs -I/home/users/db903833/src/netcdf/install-4.3.1/include -Jobjs -O3 -funroll-loops -floop-block -ftree-loop-distribution -march=native  -c -o objs/mapping.o src/simulator/mapping.f90\n",
      "gfortran -Wall -ffixed-line-length-132 -fdefault-real-8 -fdefault-double-8 -I/usr/include -Iobjs -I/home/users/db903833/src/netcdf/install-4.3.1/include -Jobjs -O3 -funroll-loops -floop-block -ftree-loop-distribution -march=native  -c -o objs/model.o src/simulator/model.f90\n",
      "gfortran -Wall -ffixed-line-length-132 -fdefault-real-8 -fdefault-double-8 -I/usr/include -Iobjs -I/home/users/db903833/src/netcdf/install-4.3.1/include -Jobjs -O3 -funroll-loops -floop-block -ftree-loop-distribution -march=native  -c -o objs/target_operator.o src/simulator/target_operator.f90\n",
      "gfortran -Wall -ffixed-line-length-132 -fdefault-real-8 -fdefault-double-8 -I/usr/include -Iobjs -I/home/users/db903833/src/netcdf/install-4.3.1/include -Jobjs -O3 -funroll-loops -floop-block -ftree-loop-distribution -march=native  -c -o objs/price_soil_ftn.o src/semid/price_soil_ftn.f90\n",
      "gfortran -Wall -ffixed-line-length-132 -fdefault-real-8 -fdefault-double-8 -I/usr/include -Iobjs -I/home/users/db903833/src/netcdf/install-4.3.1/include -Jobjs -O3 -funroll-loops -floop-block -ftree-loop-distribution -march=native  -c -o objs/prospect_interface_ftn.o src/semid/prospect_interface_ftn.f90\n",
      "gfortran -Wall -ffixed-line-length-132 -fdefault-real-8 -fdefault-double-8 -I/usr/include -Iobjs -I/home/users/db903833/src/netcdf/install-4.3.1/include -Jobjs -O3 -funroll-loops -floop-block -ftree-loop-distribution -march=native  -c -o objs/semiD_ftn.o src/semid/semiD_ftn.f90\n",
      "gfortran -Wall -ffixed-line-length-132 -fdefault-real-8 -fdefault-double-8 -I/usr/include -Iobjs -I/home/users/db903833/src/netcdf/install-4.3.1/include -Jobjs -O3 -funroll-loops -floop-block -ftree-loop-distribution -march=native  -c -o objs/canopy.o src/sense/canopy.f90\n",
      "gfortran -Wall -ffixed-line-length-132 -fdefault-real-8 -fdefault-double-8 -I/usr/include -Iobjs -I/home/users/db903833/src/netcdf/install-4.3.1/include -Jobjs -O3 -funroll-loops -floop-block -ftree-loop-distribution -march=native  -c -o objs/core.o src/sense/core.f90\n",
      "gfortran -Wall -ffixed-line-length-132 -fdefault-real-8 -fdefault-double-8 -I/usr/include -Iobjs -I/home/users/db903833/src/netcdf/install-4.3.1/include -Jobjs -O3 -funroll-loops -floop-block -ftree-loop-distribution -march=native  -c -o objs/dobson85.o src/sense/dobson85.f90\n",
      "gfortran -Wall -ffixed-line-length-132 -fdefault-real-8 -fdefault-double-8 -I/usr/include -Iobjs -I/home/users/db903833/src/netcdf/install-4.3.1/include -Jobjs -O3 -funroll-loops -floop-block -ftree-loop-distribution -march=native  -c -o objs/ground.o src/sense/ground.f90\n",
      "gfortran -Wall -ffixed-line-length-132 -fdefault-real-8 -fdefault-double-8 -I/usr/include -Iobjs -I/home/users/db903833/src/netcdf/install-4.3.1/include -Jobjs -O3 -funroll-loops -floop-block -ftree-loop-distribution -march=native  -c -o objs/Oh92.o src/sense/Oh92.f90\n",
      "gfortran -Wall -ffixed-line-length-132 -fdefault-real-8 -fdefault-double-8 -I/usr/include -Iobjs -I/home/users/db903833/src/netcdf/install-4.3.1/include -Jobjs -O3 -funroll-loops -floop-block -ftree-loop-distribution -march=native  -c -o objs/scatterer.o src/sense/scatterer.f90\n",
      "gfortran -Wall -ffixed-line-length-132 -fdefault-real-8 -fdefault-double-8 -I/usr/include -Iobjs -I/home/users/db903833/src/netcdf/install-4.3.1/include -Jobjs -O3 -funroll-loops -floop-block -ftree-loop-distribution -march=native  -c -o objs/soil.o src/sense/soil.f90\n",
      "gfortran -Wall -ffixed-line-length-132 -fdefault-real-8 -fdefault-double-8 -I/usr/include -Iobjs -I/home/users/db903833/src/netcdf/install-4.3.1/include -Jobjs -O3 -funroll-loops -floop-block -ftree-loop-distribution -march=native  -c -o objs/util.o src/sense/util.f90\n",
      "gfortran -Wall -ffixed-line-length-132 -fdefault-real-8 -fdefault-double-8 -I/usr/include -Iobjs -I/home/users/db903833/src/netcdf/install-4.3.1/include -Jobjs -O3 -funroll-loops -floop-block -ftree-loop-distribution -march=native  -c -o objs/sense.o src/sense/sense.f90\n",
      "gfortran -Wall -ffixed-line-length-132 -fdefault-real-8 -fdefault-double-8 -I/usr/include -Iobjs -I/home/users/db903833/src/netcdf/install-4.3.1/include -Jobjs -O3 -funroll-loops -floop-block -ftree-loop-distribution -march=native  -c -o objs/init-finish.o src/simulator/init-finish.f90\n",
      "gfortran -Wall -ffixed-line-length-132 -fdefault-real-8 -fdefault-double-8 -I/usr/include -Iobjs -I/home/users/db903833/src/netcdf/install-4.3.1/include -Jobjs -O3 -funroll-loops -floop-block -ftree-loop-distribution -march=native  -c -o objs/mo_timing.o src/support/mo_timing.f90\n",
      "gfortran -Wall -ffixed-line-length-132 -fdefault-real-8 -fdefault-double-8 -I/usr/include -Iobjs -I/home/users/db903833/src/netcdf/install-4.3.1/include -Jobjs -O3 -funroll-loops -floop-block -ftree-loop-distribution -march=native  -c -o objs/sensimul_io.o src/simulator/sensimul_io.f90\n",
      "ar -r lib/libmodel.a objs/prospect.redux.o objs/semiDbrf.o objs/semiDbrfe.o objs/semiDtools.o objs/mo_sensimul.o objs/simulate.o objs/mapping.o objs/model.o objs/target_operator.o objs/mo_sensimul_s2.o objs/price_soil_ftn.o objs/prospect_interface_ftn.o objs/semiD_ftn.o objs/canopy.o objs/core.o objs/dobson85.o objs/ground.o objs/mo_sensimul_s1.o objs/Oh92.o objs/scatterer.o objs/soil.o objs/util.o objs/sense.o objs/init-finish.o objs/sensimul_io.o\n",
      "gfortran -Wall -ffixed-line-length-132 -fdefault-real-8 -fdefault-double-8 -I/usr/include -Iobjs -I/home/users/db903833/src/netcdf/install-4.3.1/include -Jobjs -O3 -funroll-loops -floop-block -ftree-loop-distribution -march=native  -c -o objs/mo_util.o src/support/mo_util.f90\n",
      "ar -r lib/libsupport.a objs/mo_timing.o objs/mo_util.o\n",
      "gfortran -o simulate.x -O3 -funroll-loops -floop-block -ftree-loop-distribution -march=native objs/runsim.o lib/libmodel.a lib/libsupport.a -L/home/users/db903833/src/netcdf/install-4.3.1/lib -lnetcdff -lnetcdf\n"
     ]
    },
    {
     "name": "stdout",
     "output_type": "stream",
     "text": [
      "gfortran -Wall -ffixed-line-length-132 -fdefault-real-8 -fdefault-double-8 -I/usr/include -Iobjs -I/home/users/db903833/src/netcdf/install-4.3.1/include -Jobjs -O3 -funroll-loops -floop-block -ftree-loop-distribution -march=native  -c -o objs/runretrieval.o driver/runretrieval.f90\n",
      "gfortran -Wall -ffixed-line-length-132 -fdefault-real-8 -fdefault-double-8 -I/usr/include -Iobjs -I/home/users/db903833/src/netcdf/install-4.3.1/include -Jobjs -O3 -funroll-loops -floop-block -ftree-loop-distribution -march=native  -c -o objs/mo_retrieval.o src/retrieval/mo_retrieval.f90\n",
      "gfortran -Wall -ffixed-line-length-132 -fdefault-real-8 -fdefault-double-8 -I/usr/include -Iobjs -I/home/users/db903833/src/netcdf/install-4.3.1/include -Jobjs -O3 -funroll-loops -floop-block -ftree-loop-distribution -march=native  -c -o objs/cost.o src/retrieval/cost.f90\n",
      "gfortran -Wall -ffixed-line-length-132 -fdefault-real-8 -fdefault-double-8 -I/usr/include -Iobjs -I/home/users/db903833/src/netcdf/install-4.3.1/include -Jobjs -O3 -funroll-loops -floop-block -ftree-loop-distribution -march=native  -c -o objs/misfit.o src/retrieval/misfit.f90\n",
      "gfortran -Wall -ffixed-line-length-132 -fdefault-real-8 -fdefault-double-8 -I/usr/include -Iobjs -I/home/users/db903833/src/netcdf/install-4.3.1/include -Jobjs -O3 -funroll-loops -floop-block -ftree-loop-distribution -march=native  -c -o objs/prior.o src/retrieval/prior.f90\n",
      "gfortran -Wall -ffixed-line-length-132 -fdefault-real-8 -fdefault-double-8 -I/usr/include -Iobjs -I/home/users/db903833/src/netcdf/install-4.3.1/include -Jobjs -O3 -funroll-loops -floop-block -ftree-loop-distribution -march=native  -c -o objs/retrieval_control.o src/retrieval/retrieval_control.f90\n",
      "gfortran -Wall -ffixed-line-length-132 -fdefault-real-8 -fdefault-double-8 -I/usr/include -Iobjs -I/home/users/db903833/src/netcdf/install-4.3.1/include -Jobjs -O3 -funroll-loops -floop-block -ftree-loop-distribution -march=native  -c -o objs/DIFFSIZES.o src/derivatives/DIFFSIZES.f90\n",
      "gfortran -Wall -ffixed-line-length-132 -fdefault-real-8 -fdefault-double-8 -I/usr/include -Iobjs -I/home/users/db903833/src/netcdf/install-4.3.1/include -Jobjs -O3 -funroll-loops -floop-block -ftree-loop-distribution -march=native  -c -o objs/jacobian.o src/retrieval/jacobian.f90\n",
      "gfortran -Wall -ffixed-line-length-132 -fdefault-real-8 -fdefault-double-8 -I/usr/include -Iobjs -I/home/users/db903833/src/netcdf/install-4.3.1/include -Jobjs -O3 -funroll-loops -floop-block -ftree-loop-distribution -march=native  -c -o objs/ua.o src/retrieval/ua.f90\n",
      "gfortran -Wall -ffixed-line-length-132 -fdefault-real-8 -fdefault-double-8 -I/usr/include -Iobjs -I/home/users/db903833/src/netcdf/install-4.3.1/include -Jobjs -O3 -funroll-loops -floop-block -ftree-loop-distribution -march=native  -c -o objs/fapar.o src/retrieval/fapar.f90\n",
      "gfortran -Wall -ffixed-line-length-132 -fdefault-real-8 -fdefault-double-8 -I/usr/include -Iobjs -I/home/users/db903833/src/netcdf/install-4.3.1/include -Jobjs -O3 -funroll-loops -floop-block -ftree-loop-distribution -march=native  -c -o objs/backscatter_hh.o src/retrieval/backscatter_hh.f90\n",
      "ar -r lib/libretr.a objs/cost.o objs/misfit.o objs/prior.o objs/mo_retrieval.o objs/retrieval_control.o objs/jacobian.o objs/ua.o objs/fapar.o objs/backscatter_hh.o\n",
      "gfortran -Wall -ffixed-line-length-132 -fdefault-real-8 -fdefault-double-8 -I/usr/include -Iobjs -I/home/users/db903833/src/netcdf/install-4.3.1/include -Jobjs -O3 -funroll-loops -floop-block -ftree-loop-distribution -march=native  -c -o objs/cost_bw.o src/derivatives/cost_bw.f90\n",
      "gfortran -Wall -ffixed-line-length-132 -fdefault-real-8 -fdefault-double-8 -I/usr/include -Iobjs -I/home/users/db903833/src/netcdf/install-4.3.1/include -Jobjs -O3 -funroll-loops -floop-block -ftree-loop-distribution -march=native  -c -o objs/cost_fwv.o src/derivatives/cost_fwv.f90\n",
      "gfortran -Wall -ffixed-line-length-132 -fdefault-real-8 -fdefault-double-8 -I/usr/include -Iobjs -I/home/users/db903833/src/netcdf/install-4.3.1/include -Jobjs -O3 -funroll-loops -floop-block -ftree-loop-distribution -march=native  -c -o objs/ad_support.o src/derivatives/ad_support.f90\n",
      "gfortran -Wall -ffixed-line-length-132 -fdefault-real-8 -fdefault-double-8 -I/usr/include -Iobjs -I/home/users/db903833/src/netcdf/install-4.3.1/include -Jobjs -O3 -funroll-loops -floop-block -ftree-loop-distribution -march=native  -c -o objs/adBuffer.o src/derivatives/adBuffer.f\n",
      "cc -fPIC -Isrc/derivatives   -c -o objs/adStack.o src/derivatives/adStack.c\n",
      "ar -r lib/libderiv.a objs/cost_bw.o objs/cost_fwv.o objs/ad_support.o objs/DIFFSIZES.o objs/adBuffer.o objs/adStack.o\n",
      "make -C lbfgsb ../lib/liblbfgsb-gfortran.a FC=\"gfortran\" FFLAGS=\"-Wall -ffixed-line-length-132 -fdefault-real-8 -fdefault-double-8 -I/usr/include -Iobjs -I/home/users/db903833/src/netcdf/install-4.3.1/include -Jobjs -O3 -funroll-loops -floop-block -ftree-loop-distribution -march=native\" LIBNAME=\"../lib/liblbfgsb-gfortran.a\"\n",
      "make[1]: Entering directory '/home/michael/esa_demo_new.git/tool_intro/example_synthetic/lbfgsb'\n",
      "gfortran -Wall -ffixed-line-length-132 -fdefault-real-8 -fdefault-double-8 -I/usr/include -Iobjs -I/home/users/db903833/src/netcdf/install-4.3.1/include -Jobjs -O3 -funroll-loops -floop-block -ftree-loop-distribution -march=native  -c -o blas.o blas.f\n",
      "gfortran -Wall -ffixed-line-length-132 -fdefault-real-8 -fdefault-double-8 -I/usr/include -Iobjs -I/home/users/db903833/src/netcdf/install-4.3.1/include -Jobjs -O3 -funroll-loops -floop-block -ftree-loop-distribution -march=native  -c -o lbfgsb.o lbfgsb.f\n",
      "gfortran -Wall -ffixed-line-length-132 -fdefault-real-8 -fdefault-double-8 -I/usr/include -Iobjs -I/home/users/db903833/src/netcdf/install-4.3.1/include -Jobjs -O3 -funroll-loops -floop-block -ftree-loop-distribution -march=native  -c -o linpack.o linpack.f\n",
      "gfortran -Wall -ffixed-line-length-132 -fdefault-real-8 -fdefault-double-8 -I/usr/include -Iobjs -I/home/users/db903833/src/netcdf/install-4.3.1/include -Jobjs -O3 -funroll-loops -floop-block -ftree-loop-distribution -march=native  -c -o timer.o timer.f\n",
      "ar -r ../lib/liblbfgsb-gfortran.a blas.o lbfgsb.o linpack.o timer.o\n",
      "make[1]: Leaving directory '/home/michael/esa_demo_new.git/tool_intro/example_synthetic/lbfgsb'\n",
      "make -C eispack ../lib/libeis.a FC=gfortran FFLAGS=\"-Wall -ffixed-line-length-132 -fdefault-real-8 -fdefault-double-8 -I/usr/include -Iobjs -I/home/users/db903833/src/netcdf/install-4.3.1/include -Jobjs -O3 -funroll-loops -floop-block -ftree-loop-distribution -march=native\" LIBNAME=\"../lib/libeis.a\"\n",
      "make[1]: Entering directory '/home/michael/esa_demo_new.git/tool_intro/example_synthetic/eispack'\n",
      "gfortran -Wall -ffixed-line-length-132 -fdefault-real-8 -fdefault-double-8 -I/usr/include -Iobjs -I/home/users/db903833/src/netcdf/install-4.3.1/include -Jobjs -O3 -funroll-loops -floop-block -ftree-loop-distribution -march=native -c eispack.f90\n",
      "ar -r ../lib/libeis.a eispack.o\n",
      "make[1]: Leaving directory '/home/michael/esa_demo_new.git/tool_intro/example_synthetic/eispack'\n",
      "gfortran -o runretrieval.x -O3 -funroll-loops -floop-block -ftree-loop-distribution -march=native objs/runretrieval.o lib/libretr.a lib/libderiv.a lib/libmodel.a lib/libsupport.a lib/liblbfgsb-gfortran.a lib/libeis.a -L/home/users/db903833/src/netcdf/install-4.3.1/lib -lnetcdff -lnetcdf\n"
     ]
    },
    {
     "data": {
      "text/plain": [
       "0"
      ]
     },
     "execution_count": 5,
     "metadata": {},
     "output_type": "execute_result"
    }
   ],
   "source": [
    "rcmd.run_command('make simulate.x runretrieval.x')"
   ]
  },
  {
   "cell_type": "code",
   "execution_count": 9,
   "metadata": {},
   "outputs": [
    {
     "name": "stdout",
     "output_type": "stream",
     "text": [
      "\r\n",
      "pregeneral:\r\n",
      "\t$(MAKE) pre PRE_MODE=pre_general\r\n",
      ".PHONY: pregeneral\r\n",
      "\r\n",
      "presynthetic:\r\n",
      "\t$(MAKE) pre PRE_MODE=pre_synthetic\r\n",
      ".PHONY: presynthetic\r\n",
      "\r\n",
      "\r\n",
      "pre:\r\n",
      "\t( args=\"\";   \\\r\n",
      "          if [ \"x$(PRE_MODE)\" = \"xpre_synthetic\" ]; then \\\r\n",
      "            args=\"--time_start $(TIMSTART) --time_end $(TIMEND)\"; \\\r\n",
      "            if [ \"x$(NOXTGT)\" = \"x\" ]; \\\r\n",
      "            then \\\r\n",
      "              args=\"$${args} --target_schedule $(TGTSCHEDULE_FILE)\"; \\\r\n",
      "            fi; \\\r\n",
      "\t    if [ \"x$(MISSION_LST)\" != \"x\" ]; \\\r\n",
      "            then \\\r\n",
      "\t      args=\"$${args} --mission_lst $(MISSION_LST)\"; \\\r\n",
      "            fi; \\\r\n",
      "          fi; \\\r\n",
      "          args=\"$${args} $(PREARGXTRA)\"; \\\r\n",
      "\t  $(RS_PRE_TOOL) $(PRE_MODE) $${args} 2>&1 | tee mk.$@.log; \\\r\n",
      "        )\r\n",
      "\r\n",
      "RS_PRE_TOOL     := bin/rs_pre.py\r\n",
      "TIMSTART        := 20170501\r\n",
      "TIMEND          := 20170531\r\n",
      "TGTSCHEDULE_FILE := input/target_schedule_2017.txt\r\n"
     ]
    }
   ],
   "source": [
    "cat ../mk.pre.txt"
   ]
  },
  {
   "cell_type": "code",
   "execution_count": 10,
   "metadata": {},
   "outputs": [
    {
     "name": "stdout",
     "output_type": "stream",
     "text": [
      "2019-03-31 14:46:48,419 INFO::<module>:: rs_pre.py::PROGRAM START::2019-03-31T14:46:48.419735\n",
      "2019-03-31 14:46:48,419 INFO::<module>:: command-line: bin/rs_pre.py pre_synthetic -h\n",
      "usage: ==================================================\n",
      "PROJECT\n",
      "\n",
      "Sentinel Synergy Study (S^3)\n",
      "\n",
      "DESCRIPTION\n",
      "\n",
      "Retrieval System Preprocessor\n",
      "\n",
      "Implements/Provides all preprocessing steps required to operate the retrieval\n",
      "prototype system\n",
      "\n",
      "EXAMPLES\n",
      "\n",
      "available options are listed by invoking 'rs_pre.py -h' on the command line\n",
      "\n",
      "EXIT STATUS\n",
      "\n",
      "should be 0 in case of success, 1 otherwise\n",
      "\n",
      "AUTHOR\n",
      "\n",
      "The Inversion Lab, Michael Vossbeck <Michael.Vossbeck@Inversion-Lab.com>\n",
      "\n",
      "================================================== pre_synthetic\n",
      "[-h] [--time_start TIME_START] [--time_end TIME_END]\n",
      "[--target_select target_tmin target_tmax target_tdelta]\n",
      "[--target_schedule TARGET_SCHEDULE] [--site_nml SITE_NML] [--use_generic_prior]\n",
      "[--prior_inifile PRIOR_INIFILE]\n",
      "[--mission_lst {S1A,S1B,S2A,S2B} [{S1A,S1B,S2A,S2B} ...]] [--no_use_prior]\n",
      "[--no_use_model]\n",
      "\n",
      "optional arguments:\n",
      "-h, --help            show this help message and exit\n",
      "--time_start TIME_START\n",
      "retrieval system will discard time-points before the date given here\n",
      "(fmt: YYYYMMDDTHH:MM). However further temporal restriction may\n",
      "result from invoking options --target_select or --target_schedule.\n",
      "--time_end TIME_END   retrieval system will discard time-points after the date given here\n",
      "(fmt: YYYYMMDDTHH:MM). Howeveer, further temporal restriction may\n",
      "result from invoking options --target_select or --target_schedule.\n",
      "--target_select target_tmin target_tmax target_tdelta\n",
      "selection of series of equally distributed extra target time points.\n",
      "This must be a comma separated triple of the form 'tmin,tmax,tdelta'\n",
      "where tmim,tmax are time-points with format 'YYYYMMDDTHH:MM' and\n",
      "tdelta must be specified as Xd or Xh with integer X. (Note that\n",
      "option --target_schedule has priority over setting made here!)\n",
      "--target_schedule TARGET_SCHEDULE\n",
      "specify name of a target schedule file from which extra time points\n",
      "will be read. This file must contain a single time-point per line\n",
      "specified as 'YYYYMMDDTHH:MM:SS'.\n",
      "--site_nml SITE_NML   specification namelist file for selected site. If none is given a\n",
      "default namelist file suitable for the Wallerfing site will be used.\n",
      "--use_generic_prior   whether the generic prior suitable for agriculture sites should be\n",
      "used (By default a default prior from JULES shipped with the\n",
      "signature simulator is applied)\n",
      "--prior_inifile PRIOR_INIFILE\n",
      "ini file to specify temporally constant prior control vector\n",
      "components and their uncertainties. (NOTE: this option has priority\n",
      "over --use_generic_prior)\n",
      "--mission_lst {S1A,S1B,S2A,S2B} [{S1A,S1B,S2A,S2B} ...]\n",
      "list of satellite missions for which synthetic observations should\n",
      "be generated (default: [])\n",
      "--no_use_prior        whether to discard the prior information for the retrieval\n",
      "--no_use_model        whether to discard the dynamical model on the state vector for the\n",
      "retrieval\n"
     ]
    },
    {
     "data": {
      "text/plain": [
       "0"
      ]
     },
     "execution_count": 10,
     "metadata": {},
     "output_type": "execute_result"
    }
   ],
   "source": [
    "rcmd.run_command('bin/rs_pre.py pre_synthetic -h')"
   ]
  },
  {
   "cell_type": "code",
   "execution_count": 11,
   "metadata": {},
   "outputs": [
    {
     "name": "stdout",
     "output_type": "stream",
     "text": [
      "#selected points of time for target processor fmt='%Y%m%dT%H:%M:%S'\r\n",
      "20170510T12:00:00\r\n",
      "20170511T12:00:00\r\n",
      "20170512T12:00:00\r\n",
      "20170513T12:00:00\r\n",
      "20170514T12:00:00\r\n",
      "20170515T12:00:00\r\n",
      "20170516T12:00:00\r\n",
      "20170517T12:00:00\r\n",
      "20170518T12:00:00\r\n",
      "20170519T12:00:00\r\n",
      "20170520T12:00:00\r\n"
     ]
    }
   ],
   "source": [
    "cat input/target_schedule_2017.txt"
   ]
  },
  {
   "cell_type": "code",
   "execution_count": 6,
   "metadata": {},
   "outputs": [
    {
     "name": "stdout",
     "output_type": "stream",
     "text": [
      "make pre PRE_MODE=pre_synthetic\n",
      "make[1]: Entering directory '/home/michael/esa_demo_new.git/tool_intro/example_synthetic'\n",
      "( args=\"\";   \\\n",
      "if [ \"xpre_synthetic\" = \"xpre_synthetic\" ]; then \\\n",
      "args=\"--time_start 20170501 --time_end 20170531\"; \\\n",
      "if [ \"x\" = \"x\" ]; \\\n",
      "then \\\n",
      "args=\"${args} --target_schedule input/target_schedule_2017.txt\"; \\\n",
      "fi; \\\n",
      "if [ \"xS1A S1B\" != \"x\" ]; \\\n",
      "then \\\n",
      "args=\"${args} --mission_lst S1A S1B\"; \\\n",
      "fi; \\\n",
      "fi; \\\n",
      "args=\"${args} \"; \\\n",
      "bin/rs_pre.py pre_synthetic ${args} 2>&1 | tee mk.pre.log; \\\n",
      ")\n",
      "2019-03-31 15:06:51,979 INFO::<module>:: rs_pre.py::PROGRAM START::2019-03-31T15:06:51.979377\n",
      "2019-03-31 15:06:51,979 INFO::<module>:: command-line: bin/rs_pre.py pre_synthetic --time_start 20170501 --time_end 20170531 --target_schedule input/target_schedule_2017.txt --mission_lst S1A S1B\n",
      "2019-03-31 15:06:51,982 INFO::main:: user selection +++pre_synthetic+++\n",
      "2019-03-31 15:06:51,982 INFO::pre_synthetic:: 'site.nml' was created as copy of Wallerfing default namelist file ***/home/michael/.local/lib/python2.7/site-packages/signaturesimulator/site.nml***\n",
      "2019-03-31 15:06:51,982 INFO::pre_synthetic:: START reading namelist ***site.nml***...\n",
      "2019-03-31 15:06:51,983 INFO::pre_synthetic:: ...reading DONE\n",
      "2019-03-31 15:06:51,986 INFO::pre_synthetic:: operating for temporal range 2017-05-01T00:00:00 - 2017-05-31T23:59:59 (num_days=30)\n",
      "2019-03-31 15:06:51,986 INFO::pre_synthetic:: selected mission_lst: ['S1A', 'S1B']\n",
      "2019-03-31 15:06:51,989 INFO::load_obs_csv:: observation data loaded from file ***/home/michael/esa_demo_new.git/tool_intro/example_synthetic/input/mni_s1_508_med_2017.csv***\n",
      "2019-03-31 15:06:51,991 INFO::load_obs_csv:: detected ntimepts=177 #columns=10 in csv file\n",
      "2019-03-31 15:06:51,991 INFO::load_obs_csv:: start reading S1 observations...\n",
      "2019-03-31 15:06:51,991 INFO::_read_target_schedule:: target schedule will be read from file ***input/target_schedule_2017.txt***\n",
      "2019-03-31 15:06:51,991 INFO::_read_target_schedule:: ...reading target schedule DONE (nxtgt=11)\n",
      "2019-03-31 15:06:51,992 INFO::setup_common_schedule:: determined ntpts=28\n",
      "2019-03-31 15:06:51,992 INFO::setup_common_schedule:: common schedule yields time-points  S1A=10 S1B=7 S2A=0 S2B=0 other=11\n",
      "2019-03-31 15:06:51,992 INFO::set_prior_priorunc_synthetic:: START reading state variables from file ***/home/michael/esa_demo_new.git/tool_intro/example_synthetic/input/mni_stat_jules_2017.csv***...\n",
      "2019-03-31 15:06:51,999 INFO::set_prior_priorunc_synthetic:: ...reading DONE\n",
      "2019-03-31 15:06:52,009 INFO::_set_priorunc:: applied relative uncertainty 1.0 on lai coefficients.\n",
      "2019-03-31 15:06:52,010 INFO::_set_priorunc:: applied relative uncertainty on state vector components, lai_relunc=0.5 canht_relunc=0.5 sm_relunc=0.5\n",
      "2019-03-31 15:06:52,010 INFO::_set_priorunc:: uncertainty floor values were applied as follows: lai_uncfloor=0.001 canht_uncfloor=0.001 sm_uncfloor=0.001\n",
      "2019-03-31 15:06:52,010 INFO::set_dynmodel:: Applying default values on dynamical model uncertainties.\n",
      "2019-03-31 15:06:52,010 INFO::ncwrt_retrieval_config:: Start writing configuration file ***retrconfig.nc***...\n",
      "2019-03-31 15:06:52,014 INFO::ncwrt_retrieval_config:: ...writing ***retrconfig.nc*** DONE\n",
      "2019-03-31 15:06:52,014 INFO::ncwrt_retrieval_prior:: Start writing configuration file ***retrprior.nc***...\n",
      "2019-03-31 15:06:52,020 INFO::ncwrt_retrieval_prior:: ...writing ***retrprior.nc*** DONE\n",
      "2019-03-31 15:06:52,021 INFO::ncwrt_retrieval_model:: Start writing configuration file ***retrmodel.nc***...\n",
      "2019-03-31 15:06:52,027 INFO::ncwrt_retrieval_model:: ...writing ***retrmodel.nc*** DONE\n",
      "2019-03-31 15:06:52,027 INFO::wrt_nml_retrieval_control:: Start writing configuration file ***retrctl.nml***...\n",
      "2019-03-31 15:06:52,027 INFO::wrt_nml_retrieval_control:: ...writing ***retrctl.nml*** DONE\n",
      "2019-03-31 15:06:52,027 INFO::wrt_nml_controlvector_bounds:: Start writing configuration file ***retrctlvecbounds.nml***...\n",
      "2019-03-31 15:06:52,027 INFO::wrt_nml_controlvector_bounds:: ...writing ***retrctlvecbounds.nml*** DONE\n",
      "make[1]: Leaving directory '/home/michael/esa_demo_new.git/tool_intro/example_synthetic'\n"
     ]
    },
    {
     "data": {
      "text/plain": [
       "0"
      ]
     },
     "execution_count": 6,
     "metadata": {},
     "output_type": "execute_result"
    }
   ],
   "source": [
    "rcmd.run_command('make presynthetic MISSION_LST=\"S1A S1B\"')"
   ]
  },
  {
   "cell_type": "code",
   "execution_count": 7,
   "metadata": {},
   "outputs": [
    {
     "name": "stdout",
     "output_type": "stream",
     "text": [
      "total 2024\r\n",
      "drwxr-xr-x  8 michael users    4096 Mar 31 15:04 \u001b[0m\u001b[01;34msrc\u001b[0m/\r\n",
      "-rw-r--r--  1 michael users     499 Mar 31 15:04 \u001b[00mREADME-DERIVATIVES.txt\u001b[0m\r\n",
      "-rw-r--r--  1 michael users     390 Mar 31 15:04 \u001b[00mreadme\u001b[0m\r\n",
      "-rw-r--r--  1 michael users     146 Mar 31 15:04 \u001b[00mMake-local.inc\u001b[0m\r\n",
      "-rw-r--r--  1 michael users   19308 Mar 31 15:04 \u001b[00mMakefile\u001b[0m\r\n",
      "drwxr-xr-x  2 michael users    4096 Mar 31 15:04 \u001b[01;34mdriver\u001b[0m/\r\n",
      "drwxr-xr-x  2 michael users    4096 Mar 31 15:04 \u001b[01;34mbin\u001b[0m/\r\n",
      "drwxr-xr-x  3 michael users    4096 Mar 31 15:04 \u001b[01;34m..\u001b[0m/\r\n",
      "drwxr-xr-x  2 michael users    4096 Mar 31 15:05 \u001b[01;34minput\u001b[0m/\r\n",
      "-rwxr-xr-x  1 michael users  282904 Mar 31 15:05 \u001b[00;32msimulate.x\u001b[0m*\r\n",
      "drwxr-xr-x  2 michael users    4096 Mar 31 15:05 \u001b[01;34mobjs\u001b[0m/\r\n",
      "drwxr-xr-x  2 michael users    4096 Mar 31 15:05 \u001b[01;34mlbfgsb\u001b[0m/\r\n",
      "drwxr-xr-x  2 michael users    4096 Mar 31 15:06 \u001b[01;34meispack\u001b[0m/\r\n",
      "drwxr-xr-x  2 michael users    4096 Mar 31 15:06 \u001b[01;34mlib\u001b[0m/\r\n",
      "-rwxr-xr-x  1 michael users 1597968 Mar 31 15:06 \u001b[00;32mrunretrieval.x\u001b[0m*\r\n",
      "-rw-r--r--  1 michael users    1056 Mar 31 15:06 \u001b[00msite.nml\u001b[0m\r\n",
      "-rw-r--r--  1 michael users   17402 Mar 31 15:06 \u001b[00mretrconfig.nc\u001b[0m\r\n",
      "-rw-r--r--  1 michael users   34553 Mar 31 15:06 \u001b[00mretrprior.nc\u001b[0m\r\n",
      "-rw-r--r--  1 michael users   35550 Mar 31 15:06 \u001b[00mretrmodel.nc\u001b[0m\r\n",
      "-rw-r--r--  1 michael users     203 Mar 31 15:06 \u001b[00mretrctlvecbounds.nml\u001b[0m\r\n",
      "-rw-r--r--  1 michael users     339 Mar 31 15:06 \u001b[00mretrctl.nml\u001b[0m\r\n",
      "-rw-r--r--  1 michael users    3513 Mar 31 15:06 \u001b[00mmk.pre.log\u001b[0m\r\n",
      "drwxr-xr-x 10 michael users    4096 Mar 31 15:06 \u001b[01;34m.\u001b[0m/\r\n"
     ]
    }
   ],
   "source": [
    "ls -ralt"
   ]
  },
  {
   "cell_type": "code",
   "execution_count": 14,
   "metadata": {},
   "outputs": [
    {
     "name": "stdout",
     "output_type": "stream",
     "text": [
      "nos2: simulate.x runretrieval.x\r\n",
      "\t$(MAKE) clean_exp\r\n",
      "\t$(MAKE) presynthetic MISSION_LST=\"S1A S1B\"\r\n",
      "\t$(MAKE) synthetic\r\n",
      "\t$(MAKE) retrieval\r\n",
      "\t$(MAKE) save_exp SAVDIR=resdir_$(EXPV)_$@\r\n",
      "\r\n",
      "\r\n",
      "runretrieval.x: $(OBJDIR)/runretrieval.o $(LIBRETR) $(LIBDERIV) $(LIBMODEL) $(LIBSUPPORT) $(LIBLBFGSB) $(LIBEIS)\r\n",
      "\t$(FC) -o $@ $(FFOPTI) $^ $(LDNCLIB)\r\n"
     ]
    }
   ],
   "source": [
    "cat ../mk.nos2.txt"
   ]
  },
  {
   "cell_type": "code",
   "execution_count": 15,
   "metadata": {},
   "outputs": [
    {
     "name": "stdout",
     "output_type": "stream",
     "text": [
      "rm -f obs_s1.nc obs_s2.nc\n",
      "./simulate.x  2>&1 | tee mk.synthetic.log\n",
      "if [ -f sensimul_s1.nc ]; then mv sensimul_s1.nc obs_s1.nc; fi; \\\n",
      "if [ -f sensimul_s2.nc ]; then mv sensimul_s2.nc obs_s2.nc; fi\n"
     ]
    },
    {
     "data": {
      "text/plain": [
       "0"
      ]
     },
     "execution_count": 15,
     "metadata": {},
     "output_type": "execute_result"
    }
   ],
   "source": [
    "rcmd.run_command('make synthetic -n')"
   ]
  },
  {
   "cell_type": "code",
   "execution_count": 8,
   "metadata": {},
   "outputs": [
    {
     "name": "stdout",
     "output_type": "stream",
     "text": [
      "./simulate.x  2>&1 | tee mk.synthetic.log\n",
      "INFO::runsim:calling initf...\n",
      "DEBUG::load_ivgeom:ndims= 2\n",
      "INFO::initf:retrieval configuration was read from ***retrconfig.nc***\n",
      "DEBUG::initf:ncrd_retrieval_config has finished, yields:npts=  28 npts_s1=  17 npts_s2=   0\n",
      "INFO::load_sitenml:successfully read site namelist file ***site.nml***\n",
      "INFO::setprior:prior control vector was read from ***retrprior.nc***\n",
      "DEBUG::setprior:ncrd_retrieval_prior terminated successfully\n",
      "INFO::runsim:...done.\n",
      "DEBUG::runsim:initf yields:n= 86 m= 34\n",
      "INFO::runsim:calling initx...\n",
      "INFO::runsim:...DONE.\n",
      "DEBUG::runsim::calling simulate_s1s2 at x ...\n",
      "j     x-physical       x-scaled        x-sigma\n",
      "1     0.10000000     1.00000000     0.10000000\n",
      "2     0.10000000     1.00000000     0.10000000\n",
      "3     0.00284149     2.00000000     0.00142075\n",
      "4     0.01342839     2.00000000     0.00671420\n",
      "5     0.28455981     2.00000000     0.14227991\n",
      "6     0.00627885     2.00000000     0.00313942\n",
      "7     0.03541716     2.00000000     0.01770858\n",
      "8     0.28801311     2.00000000     0.14400656\n",
      "9     0.00824974     2.00000000     0.00412487\n",
      "10     0.04565758     2.00000000     0.02282879\n",
      "11     0.28554950     2.00000000     0.14277475\n",
      "12     0.01644818     2.00000000     0.00822409\n",
      "13     0.09222028     2.00000000     0.04611014\n",
      "14     0.28370108     2.00000000     0.14185054\n",
      "15     0.03168483     2.00000000     0.01584241\n",
      "16     0.15342582     2.00000000     0.07671291\n",
      "17     0.27979069     2.00000000     0.13989534\n",
      "18     0.03168483     2.00000000     0.01584241\n",
      "19     0.15342582     2.00000000     0.07671291\n",
      "20     0.27979069     2.00000000     0.13989534\n",
      "21     0.03707801     2.00000000     0.01853900\n",
      "22     0.16806589     2.00000000     0.08403294\n",
      "23     0.27940469     2.00000000     0.13970234\n",
      "24     0.03707801     2.00000000     0.01853900\n",
      "25     0.16806589     2.00000000     0.08403294\n",
      "26     0.27940469     2.00000000     0.13970234\n",
      "27     0.04382192     2.00000000     0.02191096\n",
      "28     0.18602840     2.00000000     0.09301420\n",
      "29     0.27960679     2.00000000     0.13980339\n",
      "30     0.05155006     2.00000000     0.02577503\n",
      "31     0.20700236     2.00000000     0.10350118\n",
      "32     0.27728384     2.00000000     0.13864192\n",
      "33     0.05155006     2.00000000     0.02577503\n",
      "34     0.20700236     2.00000000     0.10350118\n",
      "35     0.27728384     2.00000000     0.13864192\n",
      "36     0.05964746     2.00000000     0.02982373\n",
      "37     0.22789575     2.00000000     0.11394788\n",
      "38     0.28255366     2.00000000     0.14127683\n",
      "39     0.05964746     2.00000000     0.02982373\n",
      "40     0.22789575     2.00000000     0.11394788\n",
      "41     0.28255366     2.00000000     0.14127683\n",
      "42     0.06747962     2.00000000     0.03373981\n",
      "43     0.24303707     2.00000000     0.12151853\n",
      "44     0.28171770     2.00000000     0.14085885\n",
      "45     0.07631668     2.00000000     0.03815834\n",
      "46     0.25943651     2.00000000     0.12971826\n",
      "47     0.27668472     2.00000000     0.13834236\n",
      "48     0.07631668     2.00000000     0.03815834\n",
      "49     0.25943651     2.00000000     0.12971826\n",
      "50     0.27668472     2.00000000     0.13834236\n",
      "51     0.08685178     2.00000000     0.04342589\n",
      "52     0.27788649     2.00000000     0.13894324\n",
      "53     0.27522027     2.00000000     0.13761014\n",
      "54     0.08685178     2.00000000     0.04342589\n",
      "55     0.27788649     2.00000000     0.13894324\n",
      "56     0.27522027     2.00000000     0.13761014\n",
      "57     0.09830192     2.00000000     0.04915096\n",
      "58     0.29694491     2.00000000     0.14847245\n",
      "59     0.27428031     2.00000000     0.13714015\n",
      "60     0.11104461     2.00000000     0.05552231\n",
      "61     0.31681961     2.00000000     0.15840980\n",
      "62     0.28005061     2.00000000     0.14002530\n",
      "63     0.11104461     2.00000000     0.05552231\n",
      "64     0.31681961     2.00000000     0.15840980\n",
      "65     0.28005061     2.00000000     0.14002530\n",
      "66     0.12403212     2.00000000     0.06201606\n",
      "67     0.33627247     2.00000000     0.16813624\n",
      "68     0.28246529     2.00000000     0.14123264\n",
      "69     0.15431655     2.00000000     0.07715827\n",
      "70     0.37875440     2.00000000     0.18937720\n",
      "71     0.28105870     2.00000000     0.14052935\n",
      "72     0.17173342     2.00000000     0.08586671\n",
      "73     0.40170759     2.00000000     0.20085380\n",
      "74     0.27905553     2.00000000     0.13952776\n",
      "75     0.21233047     2.00000000     0.10616524\n",
      "76     0.45178646     2.00000000     0.22589323\n",
      "77     0.27441822     2.00000000     0.13720911\n",
      "78     0.28487681     2.00000000     0.14243841\n",
      "79     0.53630377     2.00000000     0.26815188\n",
      "80     0.27787859     2.00000000     0.13893929\n",
      "81     0.31092751     2.00000000     0.15546375\n",
      "82     0.56726600     2.00000000     0.28363300\n",
      "83     0.27538337     2.00000000     0.13769168\n",
      "84     0.36904693     2.00000000     0.18452346\n",
      "85     0.62726324     2.00000000     0.31363162\n",
      "86     0.27232275     2.00000000     0.13616137\n",
      "INFO::runsim:calling combinded S1+S2 simulation with simulate_s1s2...\n",
      "INFO::runsim:...done.\n",
      "INFO::simulation_synthetic_unc:S1 synthetic observational unceratainties will be generated with:uncertainty[dB]= 0.40\n",
      "INFO::finishf:simulation for S1 domain has been written to file ***sensimul_s1.nc***\n"
     ]
    },
    {
     "data": {
      "text/plain": [
       "0"
      ]
     },
     "execution_count": 8,
     "metadata": {},
     "output_type": "execute_result"
    }
   ],
   "source": [
    "rcmd.run_command('make synthetic')"
   ]
  },
  {
   "cell_type": "code",
   "execution_count": 9,
   "metadata": {},
   "outputs": [
    {
     "name": "stdout",
     "output_type": "stream",
     "text": [
      "total 2048\r\n",
      "drwxr-xr-x  8 michael users    4096 Mar 31 15:04 \u001b[0m\u001b[01;34msrc\u001b[0m/\r\n",
      "-rw-r--r--  1 michael users     499 Mar 31 15:04 \u001b[00mREADME-DERIVATIVES.txt\u001b[0m\r\n",
      "-rw-r--r--  1 michael users     390 Mar 31 15:04 \u001b[00mreadme\u001b[0m\r\n",
      "-rw-r--r--  1 michael users     146 Mar 31 15:04 \u001b[00mMake-local.inc\u001b[0m\r\n",
      "-rw-r--r--  1 michael users   19308 Mar 31 15:04 \u001b[00mMakefile\u001b[0m\r\n",
      "drwxr-xr-x  2 michael users    4096 Mar 31 15:04 \u001b[01;34mdriver\u001b[0m/\r\n",
      "drwxr-xr-x  2 michael users    4096 Mar 31 15:04 \u001b[01;34mbin\u001b[0m/\r\n",
      "drwxr-xr-x  3 michael users    4096 Mar 31 15:04 \u001b[01;34m..\u001b[0m/\r\n",
      "drwxr-xr-x  2 michael users    4096 Mar 31 15:05 \u001b[01;34minput\u001b[0m/\r\n",
      "-rwxr-xr-x  1 michael users  282904 Mar 31 15:05 \u001b[00;32msimulate.x\u001b[0m*\r\n",
      "drwxr-xr-x  2 michael users    4096 Mar 31 15:05 \u001b[01;34mobjs\u001b[0m/\r\n",
      "drwxr-xr-x  2 michael users    4096 Mar 31 15:05 \u001b[01;34mlbfgsb\u001b[0m/\r\n",
      "drwxr-xr-x  2 michael users    4096 Mar 31 15:06 \u001b[01;34meispack\u001b[0m/\r\n",
      "drwxr-xr-x  2 michael users    4096 Mar 31 15:06 \u001b[01;34mlib\u001b[0m/\r\n",
      "-rwxr-xr-x  1 michael users 1597968 Mar 31 15:06 \u001b[00;32mrunretrieval.x\u001b[0m*\r\n",
      "-rw-r--r--  1 michael users    1056 Mar 31 15:06 \u001b[00msite.nml\u001b[0m\r\n",
      "-rw-r--r--  1 michael users   17402 Mar 31 15:06 \u001b[00mretrconfig.nc\u001b[0m\r\n",
      "-rw-r--r--  1 michael users   34553 Mar 31 15:06 \u001b[00mretrprior.nc\u001b[0m\r\n",
      "-rw-r--r--  1 michael users   35550 Mar 31 15:06 \u001b[00mretrmodel.nc\u001b[0m\r\n",
      "-rw-r--r--  1 michael users     203 Mar 31 15:06 \u001b[00mretrctlvecbounds.nml\u001b[0m\r\n",
      "-rw-r--r--  1 michael users     339 Mar 31 15:06 \u001b[00mretrctl.nml\u001b[0m\r\n",
      "-rw-r--r--  1 michael users    3513 Mar 31 15:06 \u001b[00mmk.pre.log\u001b[0m\r\n",
      "-rw-r--r--  1 michael users   15154 Mar 31 15:07 \u001b[00mobs_s1.nc\u001b[0m\r\n",
      "-rw-r--r--  1 michael users    5154 Mar 31 15:07 \u001b[00mmk.synthetic.log\u001b[0m\r\n",
      "drwxr-xr-x 10 michael users    4096 Mar 31 15:07 \u001b[01;34m.\u001b[0m/\r\n"
     ]
    }
   ],
   "source": [
    "ls -ralt"
   ]
  },
  {
   "cell_type": "code",
   "execution_count": 18,
   "metadata": {},
   "outputs": [
    {
     "name": "stdout",
     "output_type": "stream",
     "text": [
      "mkdir -p lib\n",
      "make -C lbfgsb ../lib/liblbfgsb-gfortran.a FC=\"gfortran\" FFLAGS=\"-Wall -ffixed-line-length-132 -fdefault-real-8 -fdefault-double-8 -I/usr/include -Iobjs -I/home/users/db903833/src/netcdf/install-4.3.1/include -Jobjs -O3 -funroll-loops -floop-block -ftree-loop-distribution -march=native\" LIBNAME=\"../lib/liblbfgsb-gfortran.a\"\n",
      "make[1]: Entering directory '/home/michael/esa_demo_new.git/tool_intro/example_synthetic/lbfgsb'\n",
      "make[1]: '../lib/liblbfgsb-gfortran.a' is up to date.\n",
      "make[1]: Leaving directory '/home/michael/esa_demo_new.git/tool_intro/example_synthetic/lbfgsb'\n",
      "mkdir -p lib\n",
      "make -C eispack ../lib/libeis.a FC=gfortran FFLAGS=\"-Wall -ffixed-line-length-132 -fdefault-real-8 -fdefault-double-8 -I/usr/include -Iobjs -I/home/users/db903833/src/netcdf/install-4.3.1/include -Jobjs -O3 -funroll-loops -floop-block -ftree-loop-distribution -march=native\" LIBNAME=\"../lib/libeis.a\"\n",
      "make[1]: Entering directory '/home/michael/esa_demo_new.git/tool_intro/example_synthetic/eispack'\n",
      "make[1]: '../lib/libeis.a' is up to date.\n",
      "make[1]: Leaving directory '/home/michael/esa_demo_new.git/tool_intro/example_synthetic/eispack'\n",
      "gfortran -o runretrieval.x -O3 -funroll-loops -floop-block -ftree-loop-distribution -march=native objs/runretrieval.o lib/libretr.a lib/libderiv.a lib/libmodel.a lib/libsupport.a lib/liblbfgsb-gfortran.a lib/libeis.a -L/home/users/db903833/src/netcdf/install-4.3.1/lib -lnetcdff -lnetcdf\n",
      "./runretrieval.x  2>&1 | tee mk.retrieval.log\n"
     ]
    },
    {
     "data": {
      "text/plain": [
       "0"
      ]
     },
     "execution_count": 18,
     "metadata": {},
     "output_type": "execute_result"
    }
   ],
   "source": [
    "rcmd.run_command('make retrieval -n')"
   ]
  },
  {
   "cell_type": "code",
   "execution_count": 20,
   "metadata": {},
   "outputs": [
    {
     "name": "stdout",
     "output_type": "stream",
     "text": [
      "\n",
      "\n",
      "====================\n",
      "available options:\n",
      "--dbglev         increase level of verbosity\n",
      "--no_targets     disable target retrievals (Note: In particular, FAPAR retrieval may be time-consuming)\n",
      "====================\n",
      "\n",
      "\n"
     ]
    },
    {
     "data": {
      "text/plain": [
       "0"
      ]
     },
     "execution_count": 20,
     "metadata": {},
     "output_type": "execute_result"
    }
   ],
   "source": [
    "rcmd.run_command('./runretrieval.x --help')"
   ]
  },
  {
   "cell_type": "code",
   "execution_count": 10,
   "metadata": {},
   "outputs": [
    {
     "name": "stdout",
     "output_type": "stream",
     "text": [
      "make -C lbfgsb ../lib/liblbfgsb-gfortran.a FC=\"gfortran\" FFLAGS=\"-Wall -ffixed-line-length-132 -fdefault-real-8 -fdefault-double-8 -I/usr/include -Iobjs -I/home/users/db903833/src/netcdf/install-4.3.1/include -Jobjs -O3 -funroll-loops -floop-block -ftree-loop-distribution -march=native\" LIBNAME=\"../lib/liblbfgsb-gfortran.a\"\n",
      "make[1]: Entering directory '/home/michael/esa_demo_new.git/tool_intro/example_synthetic/lbfgsb'\n",
      "make[1]: '../lib/liblbfgsb-gfortran.a' is up to date.\n",
      "make[1]: Leaving directory '/home/michael/esa_demo_new.git/tool_intro/example_synthetic/lbfgsb'\n",
      "make -C eispack ../lib/libeis.a FC=gfortran FFLAGS=\"-Wall -ffixed-line-length-132 -fdefault-real-8 -fdefault-double-8 -I/usr/include -Iobjs -I/home/users/db903833/src/netcdf/install-4.3.1/include -Jobjs -O3 -funroll-loops -floop-block -ftree-loop-distribution -march=native\" LIBNAME=\"../lib/libeis.a\"\n",
      "make[1]: Entering directory '/home/michael/esa_demo_new.git/tool_intro/example_synthetic/eispack'\n",
      "make[1]: '../lib/libeis.a' is up to date.\n",
      "make[1]: Leaving directory '/home/michael/esa_demo_new.git/tool_intro/example_synthetic/eispack'\n",
      "./runretrieval.x  2>&1 | tee mk.retrieval.log\n",
      "INFO::retrieval_read_ctl:read settings from file ***retrctl.nml***...\n",
      "INFO::retrieval_read_ctl:...reading done.\n",
      "INFO::use_prior_term: T\n",
      "INFO::use_state_term: T\n",
      "INFO::gradient_tolerance: .10000E-04\n",
      "INFO::prior_pert: .25000E+00\n",
      "INFO::runretrieval:will apply relative perturbation of prior with pert=  0.25\n",
      "INFO::runretrieval:calling initf...\n",
      "DEBUG::load_ivgeom:ndims= 2\n",
      "INFO::initf:retrieval configuration was read from ***retrconfig.nc***\n",
      "DEBUG::initf:ncrd_retrieval_config has finished, yields:npts=  28 npts_s1=  17 npts_s2=   0\n",
      "INFO::load_sitenml:successfully read site namelist file ***site.nml***\n",
      "INFO::setprior:prior control vector was read from ***retrprior.nc***\n",
      "DEBUG::setprior:ncrd_retrieval_prior terminated successfully\n",
      "INFO::runretrieval:...done.\n",
      "DEBUG::runretrieval:initf yields:n= 86 mf= 34\n",
      "INFO::runretrieval:calling initx...\n",
      "INFO::runretrieval:...done.\n",
      "INFO::state_model_set:will be setting-up simple state-model of type \"mx(i+1)=a(i+1)*x(i) + b(i+1)\"\n",
      "INFO::state_model_set:reading model configuration from file ***retrmodel.nc***...\n",
      "INFO::state_model_set:...reading done.\n",
      "INFO::runretrieval:start optimise...\n",
      "INFO::optimise:load control vector boundary settings by calling initb...\n",
      "INFO::initb:bounds were read from file ***retrctlvecbounds.nml***\n",
      "INFO::initb:applying bounds: lai_coeff_lobound=    0.000 lai_coeff_hibound=    1.000\n",
      "INFO::initb:applying bounds: lai_lobound=    0.001 lai_hibound=   10.000\n",
      "INFO::initb:applying bounds: canht_lobound=    0.001 canht_hibound=    4.500\n",
      "INFO::initb:applying bounds: sm_lobound=    0.001 sm_hibound=    0.500\n",
      "INFO::optimise:...done.\n",
      "INFO::optimise:start optimiser...\n",
      "RUNNING THE L-BFGS-B CODE\n",
      "\n",
      "* * *\n",
      "\n",
      "Machine precision = 2.220D-16\n",
      "N =           86     M =            5\n",
      "\n",
      "At X0         0 variables are exactly at the bounds\n",
      "INFO::getobs:initial loading of observations...\n",
      "INFO::getobs:reading S1 observations from ***obs_s1.nc***\n",
      "INFO::ncrd_obs_vector:dataset ---backscatter--- detected fill-value:-99999.00000000\n",
      "INFO::ncrd_obs_vector:dataset ---backscatter_unc--- detected fill-value:-99999.00000000\n",
      "INFO::ncrd_obs_vector:s1 detected no fill-values\n",
      "INFO::ncrd_obs_vector:s1 detected no uncertainthy fill-values\n",
      "INFO::getobs:...loading S1 observations done.\n",
      "INFO::getobs:no S2 observations ***obs_s2.nc*** available.\n",
      "INFO::getobs:...initial loading done\n",
      "\n",
      "At iterate    0    f=  7.25833D+01    |proj g|=  8.56239D+00\n",
      "\n",
      "At iterate    1    f=  2.05346D+01    |proj g|=  2.23642D+00\n",
      "\n",
      "At iterate    2    f=  8.64103D+00    |proj g|=  1.55469D+00\n",
      "\n",
      "At iterate    3    f=  7.95945D+00    |proj g|=  1.40332D+00\n",
      "\n",
      "At iterate    4    f=  6.61003D+00    |proj g|=  1.63257D+00\n",
      "\n",
      "At iterate    5    f=  3.91903D+00    |proj g|=  2.08099D+00\n",
      "\n",
      "At iterate    6    f=  1.24628D+00    |proj g|=  2.07338D+00\n",
      "\n",
      "At iterate    7    f=  9.97303D-01    |proj g|=  2.07661D+00\n",
      "\n",
      "At iterate    8    f=  1.98716D-01    |proj g|=  9.37504D-01\n",
      "\n",
      "At iterate    9    f=  1.05899D-01    |proj g|=  2.09843D-01\n",
      "\n",
      "At iterate   10    f=  9.55166D-02    |proj g|=  1.85464D-01\n",
      "\n",
      "At iterate   11    f=  7.72756D-02    |proj g|=  2.23074D-01\n",
      "\n",
      "At iterate   12    f=  4.17409D-02    |proj g|=  2.62818D-01\n",
      "\n",
      "At iterate   13    f=  3.59353D-02    |proj g|=  3.84199D-01\n",
      "\n",
      "At iterate   14    f=  2.30558D-02    |proj g|=  1.32167D-01\n",
      "\n",
      "At iterate   15    f=  2.11772D-02    |proj g|=  2.49076D-02\n",
      "\n",
      "At iterate   16    f=  2.10266D-02    |proj g|=  2.06835D-02\n",
      "\n",
      "At iterate   17    f=  2.08561D-02    |proj g|=  1.79297D-02\n",
      "\n",
      "At iterate   18    f=  2.05911D-02    |proj g|=  4.14970D-02\n",
      "\n",
      "At iterate   19    f=  2.05413D-02    |proj g|=  6.38591D-02\n",
      "\n",
      "At iterate   20    f=  2.04279D-02    |proj g|=  7.18915D-03\n",
      "\n",
      "At iterate   21    f=  2.03924D-02    |proj g|=  8.24138D-03\n",
      "\n",
      "At iterate   22    f=  2.03577D-02    |proj g|=  1.18569D-02\n",
      "\n",
      "At iterate   23    f=  2.03471D-02    |proj g|=  4.80606D-03\n",
      "\n",
      "At iterate   24    f=  2.03451D-02    |proj g|=  1.06145D-03\n",
      "\n",
      "At iterate   25    f=  2.03448D-02    |proj g|=  7.66306D-04\n",
      "\n",
      "At iterate   26    f=  2.03441D-02    |proj g|=  1.95094D-03\n",
      "\n",
      "At iterate   27    f=  2.03436D-02    |proj g|=  7.40716D-04\n",
      "\n",
      "At iterate   28    f=  2.03436D-02    |proj g|=  1.69788D-03\n",
      "\n",
      "At iterate   29    f=  2.03433D-02    |proj g|=  2.12496D-04\n",
      "\n",
      "At iterate   30    f=  2.03433D-02    |proj g|=  1.83004D-04\n",
      "\n",
      "At iterate   31    f=  2.03433D-02    |proj g|=  3.00967D-04\n",
      "\n",
      "At iterate   32    f=  2.03433D-02    |proj g|=  2.66753D-04\n",
      "\n",
      "At iterate   33    f=  2.03433D-02    |proj g|=  1.12282D-04\n",
      "\n",
      "At iterate   34    f=  2.03433D-02    |proj g|=  3.71034D-05\n",
      "\n",
      "At iterate   35    f=  2.03433D-02    |proj g|=  6.52882D-05\n",
      "\n",
      "At iterate   36    f=  2.03433D-02    |proj g|=  1.18549D-04\n",
      "\n",
      "At iterate   37    f=  2.03433D-02    |proj g|=  8.24416D-05\n",
      "\n",
      "At iterate   38    f=  2.03433D-02    |proj g|=  3.47443D-05\n",
      "\n",
      "At iterate   39    f=  2.03433D-02    |proj g|=  3.37869D-05\n",
      "\n",
      "At iterate   40    f=  2.03433D-02    |proj g|=  5.62898D-05\n",
      "\n",
      "At iterate   41    f=  2.03433D-02    |proj g|=  1.65629D-05\n",
      "\n",
      "At iterate   42    f=  2.03433D-02    |proj g|=  1.39946D-05\n",
      "\n",
      "At iterate   43    f=  2.03433D-02    |proj g|=  2.42422D-05\n",
      "\n",
      "At iterate   44    f=  2.03433D-02    |proj g|=  2.86777D-05\n",
      "\n",
      "At iterate   45    f=  2.03433D-02    |proj g|=  1.84654D-05\n",
      "\n",
      "At iterate   46    f=  2.03433D-02    |proj g|=  4.37306D-06\n",
      "\n",
      "* * *\n",
      "\n",
      "Tit   = total number of iterations\n",
      "Tnf   = total number of function evaluations\n",
      "Tnint = total number of segments explored during Cauchy searches\n",
      "Skip  = number of BFGS updates skipped\n",
      "Nact  = number of active bounds at final generalized Cauchy point\n",
      "Projg = norm of the final projected gradient\n",
      "F     = final function value\n",
      "\n",
      "* * *\n",
      "\n",
      "N    Tit     Tnf  Tnint  Skip  Nact     Projg        F\n",
      "86     46     51     63     0     0   4.373D-06   2.034D-02\n",
      "F =   2.0343254979971415E-002\n",
      "\n",
      "CONVERGENCE: NORM_OF_PROJECTED_GRADIENT_<=_PGTOL\n",
      "\n",
      "Cauchy                time 3.050E-04 seconds.\n",
      "Subspace minimization time 4.610E-04 seconds.\n",
      "Line search           time 1.016E-02 seconds.\n",
      "\n",
      "Total User time 1.414E-02 seconds.\n",
      "\n",
      "INFO::optimise:...optimiser finished.\n",
      "INFO::runretrieval:...optimise DONE\n",
      "INFO::runretrieval::opti_succeed: T\n",
      "\n",
      "i                Prior           Posterior          Change [%]\n",
      "\n",
      "1         0.100000E+00        0.100024E+00             0.02372\n",
      "2         0.100000E+00        0.100010E+00             0.01024\n",
      "3         0.284149E-02        0.284150E-02             0.00023\n",
      "4         0.134284E-01        0.134294E-01             0.00737\n",
      "5         0.284560E+00        0.284567E+00             0.00249\n",
      "6         0.627885E-02        0.627883E-02            -0.00026\n",
      "7         0.354172E-01        0.354135E-01            -0.01041\n",
      "8         0.288013E+00        0.287985E+00            -0.00979\n",
      "9         0.824974E-02        0.824985E-02             0.00130\n",
      "10         0.456576E-01        0.456765E-01             0.04146\n",
      "11         0.285549E+00        0.285567E+00             0.00607\n",
      "12         0.164482E-01        0.164487E-01             0.00286\n",
      "13         0.922203E-01        0.922505E-01             0.03281\n",
      "14         0.283701E+00        0.283697E+00            -0.00151\n",
      "15         0.316848E-01        0.316810E-01            -0.01194\n",
      "16         0.153426E+00        0.153071E+00            -0.23148\n",
      "17         0.279791E+00        0.279797E+00             0.00228\n",
      "18         0.316848E-01        0.316862E-01             0.00425\n",
      "19         0.153426E+00        0.153508E+00             0.05376\n",
      "20         0.279791E+00        0.279718E+00            -0.02601\n",
      "21         0.370780E-01        0.370762E-01            -0.00494\n",
      "22         0.168066E+00        0.167965E+00            -0.05975\n",
      "23         0.279405E+00        0.279407E+00             0.00079\n",
      "24         0.370780E-01        0.370803E-01             0.00623\n",
      "25         0.168066E+00        0.168190E+00             0.07409\n",
      "26         0.279405E+00        0.279387E+00            -0.00641\n",
      "27         0.438219E-01        0.438224E-01             0.00106\n",
      "28         0.186028E+00        0.186053E+00             0.01334\n",
      "29         0.279607E+00        0.279077E+00            -0.18948\n",
      "30         0.515501E-01        0.515454E-01            -0.00901\n",
      "31         0.207002E+00        0.206787E+00            -0.10414\n",
      "32         0.277284E+00        0.277305E+00             0.00777\n",
      "33         0.515501E-01        0.515554E-01             0.01039\n",
      "34         0.207002E+00        0.207216E+00             0.10342\n",
      "35         0.277284E+00        0.278284E+00             0.36084\n",
      "36         0.596475E-01        0.596393E-01            -0.01373\n",
      "37         0.227896E+00        0.227633E+00            -0.11545\n",
      "38         0.282554E+00        0.282517E+00            -0.01285\n",
      "39         0.596475E-01        0.596544E-01             0.01164\n",
      "40         0.227896E+00        0.228084E+00             0.08270\n",
      "41         0.282554E+00        0.282435E+00            -0.04196\n",
      "42         0.674796E-01        0.674808E-01             0.00167\n",
      "43         0.243037E+00        0.243054E+00             0.00701\n",
      "44         0.281718E+00        0.280621E+00            -0.38939\n",
      "45         0.763167E-01        0.763054E-01            -0.01472\n",
      "46         0.259437E+00        0.259180E+00            -0.09897\n",
      "47         0.276685E+00        0.276712E+00             0.00969\n",
      "48         0.763167E-01        0.763319E-01             0.01997\n",
      "49         0.259437E+00        0.259727E+00             0.11208\n",
      "50         0.276685E+00        0.276413E+00            -0.09822\n",
      "51         0.868518E-01        0.868329E-01            -0.02176\n",
      "52         0.277886E+00        0.277558E+00            -0.11822\n",
      "53         0.275220E+00        0.275228E+00             0.00268\n",
      "54         0.868518E-01        0.868733E-01             0.02472\n",
      "55         0.277886E+00        0.278235E+00             0.12537\n",
      "56         0.275220E+00        0.275242E+00             0.00789\n",
      "57         0.983019E-01        0.983050E-01             0.00309\n",
      "58         0.296945E+00        0.296959E+00             0.00487\n",
      "59         0.274280E+00        0.275586E+00             0.47598\n",
      "60         0.111045E+00        0.111000E+00            -0.03982\n",
      "61         0.316820E+00        0.316342E+00            -0.15084\n",
      "62         0.280051E+00        0.280010E+00            -0.01442\n",
      "63         0.111045E+00        0.111084E+00             0.03588\n",
      "64         0.316820E+00        0.317288E+00             0.14771\n",
      "65         0.280051E+00        0.280163E+00             0.04017\n",
      "66         0.124032E+00        0.124098E+00             0.05309\n",
      "67         0.336272E+00        0.336885E+00             0.18212\n",
      "68         0.282465E+00        0.282209E+00            -0.09086\n",
      "69         0.154317E+00        0.154238E+00            -0.05093\n",
      "70         0.378754E+00        0.378147E+00            -0.16046\n",
      "71         0.281059E+00        0.281037E+00            -0.00776\n",
      "72         0.171733E+00        0.171907E+00             0.10087\n",
      "73         0.401708E+00        0.402760E+00             0.26204\n",
      "74         0.279056E+00        0.279084E+00             0.01021\n",
      "75         0.212330E+00        0.212686E+00             0.16738\n",
      "76         0.451786E+00        0.453302E+00             0.33556\n",
      "77         0.274418E+00        0.274473E+00             0.02007\n",
      "78         0.284877E+00        0.283957E+00            -0.32276\n",
      "79         0.536304E+00        0.533067E+00            -0.60352\n",
      "80         0.277879E+00        0.277754E+00            -0.04495\n",
      "81         0.310928E+00        0.311623E+00             0.22383\n",
      "82         0.567266E+00        0.568729E+00             0.25788\n",
      "83         0.275383E+00        0.275467E+00             0.03040\n",
      "84         0.369047E+00        0.367198E+00            -0.50095\n",
      "85         0.627263E+00        0.622089E+00            -0.82496\n",
      "86         0.272323E+00        0.272096E+00            -0.08330\n",
      "INFO::writing final control vector to x.b\n",
      "INFO::writing prior uncertainty (physical units) to sx.b\n",
      "INFO::runretrieval:start uncertainty analysis on state...\n",
      "\n",
      "INFO::ua:SVD done with ierr =          0\n",
      "\n",
      "INFO::runretrieval:...uncertainty analysis on state DONE\n",
      "\n",
      "Extreme off diagonal correlations\n",
      "Min/Max                 value    i    j\n",
      "Min              -0.00573   85    1\n",
      "Max               0.38094   86    1\n",
      "\n",
      "INFO::finishdf:resulting file ***controlvector_prior.nc*** successfully written.\n",
      "INFO::finishdf:resulting file ***controlvector_post.nc*** successfully written.\n",
      "INFO::runretrieval:start HH-backscatter target processing...\n",
      "INFO::backscatter_hh_retrieval:start computation of HH-backscatter at prior...\n",
      "INFO::backscatter_hh_retrieval:...DONE\n",
      "INFO::backscatter_hh_retrieval:start computation of HH-backscatter at x...\n",
      "INFO::backscatter_hh_retrieval:...DONE\n",
      "INFO::backscatter_hh_retrieval:start computation of HH-backscatter Jacobian at x...\n",
      "INFO::backscatter_hh_retrieval:...DONE\n",
      "INFO::backscatter_hh_retrieval:generated target data file ***backscatter_hh_prior.nc***\n",
      "INFO::backscatter_hh_retrieval:generated target data file ***backscatter_hh_post.nc***\n",
      "INFO::runretrieval:...HH-backscatter target processing DONE\n",
      "INFO::runretrieval:start FAPAR target processing...\n",
      "INFO::fapar_retrieval:start computation of FAPAR at prior...\n",
      "INFO::fapar_retrieval:...DONE\n",
      "INFO::fapar_retrieval:start computation of FAPAR at x...\n",
      "INFO::fapar_retrieval:...DONE\n",
      "INFO::fapar_retrieval:start computation of FAPAR Jacobian at x...\n",
      "INFO::fapar_retrieval:...DONE\n",
      "INFO::fapar_retrieval:generated target data file ***fapar_prior.nc***\n",
      "INFO::fapar_retrieval:generated target data file ***fapar_post.nc***\n",
      "INFO::runretrieval:...FAPAR target processing DONE\n"
     ]
    },
    {
     "data": {
      "text/plain": [
       "0"
      ]
     },
     "execution_count": 10,
     "metadata": {},
     "output_type": "execute_result"
    }
   ],
   "source": [
    "rcmd.run_command('make retrieval')"
   ]
  },
  {
   "cell_type": "code",
   "execution_count": 3,
   "metadata": {},
   "outputs": [
    {
     "name": "stdout",
     "output_type": "stream",
     "text": [
      "if [ \"xex_nos2\" != \"x\" ]; then \\\n",
      "\n",
      "          mkdir -p ex_nos2; \\\n",
      "\n",
      "          rm -f ex_nos2/*; \\\n",
      "\n",
      "          for f in `echo retrconfig.nc retrprior.nc retrmodel.nc retrctl.nml site.nml retrctlvecbounds.nml x.b sx.b fort.[0-9] fort.[0-9][0-9] sensimul_s?.nc sensimul_s?.b sensimul.b x.b sx.b iterate.dat Cx.b sigma.dat xrunua.log sigma.dat mk.pre.log iterate.dat controlvector_prior.nc controlvector_post.nc fapar_prior.nc fapar_post.nc backscatter_hh_prior.nc backscatter_hh_post.nc mk.retrieval.log sigma.dat controlvector_prior.nc controlvector_post.nc fapar_prior.nc fapar_poast.nc backscatter_hh_prior.nc backscatter_hh_post.nc mk.mba.log obs_s1.nc obs_s2.nc simulation.nc mk.synthetic.log`; \\\n",
      "\n",
      "          do \\\n",
      "\n",
      "    if [ -f ${f} ]; \\\n",
      "\n",
      "            then \\\n",
      "\n",
      "              cp -a ${f} ex_nos2; \\\n",
      "\n",
      "            fi; \\\n",
      "\n",
      "          done; \\\n",
      "\n",
      "        fi;\n",
      "\n"
     ]
    },
    {
     "data": {
      "text/plain": [
       "0"
      ]
     },
     "execution_count": 3,
     "metadata": {},
     "output_type": "execute_result"
    }
   ],
   "source": [
    "rcmd.run_command('make save_exp SAVDIR=ex_nos2')"
   ]
  },
  {
   "cell_type": "code",
   "execution_count": 4,
   "metadata": {},
   "outputs": [
    {
     "data": {
      "text/plain": [
       "(<matplotlib.figure.Figure at 0x7f6dc4064b90>,\n",
       " <matplotlib.axes._subplots.AxesSubplot at 0x7f6d99404110>)"
      ]
     },
     "execution_count": 4,
     "metadata": {},
     "output_type": "execute_result"
    },
    {
     "data": {
      "image/png": "[encoded data removed]",
      "text/plain": [
       "<matplotlib.figure.Figure at 0x7f6dc4064b90>"
      ]
     },
     "metadata": {},
     "output_type": "display_data"
    }
   ],
   "source": [
    "plot_syn.plot_state('lai', _dir='ex_syn-nos2')"
   ]
  },
  {
   "cell_type": "code",
   "execution_count": null,
   "metadata": {},
   "outputs": [],
   "source": []
  }
 ],
 "metadata": {
  "kernelspec": {
   "display_name": "Python 2",
   "language": "python",
   "name": "python2"
  },
  "language_info": {
   "codemirror_mode": {
    "name": "ipython",
    "version": 2
   },
   "file_extension": ".py",
   "mimetype": "text/x-python",
   "name": "python",
   "nbconvert_exporter": "python",
   "pygments_lexer": "ipython2",
   "version": "2.7.14"
  }
 },
 "nbformat": 4,
 "nbformat_minor": 2
}
