{
 "cells": [
  {
   "cell_type": "code",
   "execution_count": 30,
   "metadata": {},
   "outputs": [],
   "source": [
    "import os, rcmd, sys, plot_syn\n",
    "from IPython.core.display import Image, display\n",
    "reload(plot_syn)\n",
    "%matplotlib inline"
   ]
  },
  {
   "cell_type": "markdown",
   "metadata": {},
   "source": [
    "# Installation of the tool from \"pristine\" directory and running it for an experiment  with synthetic data (\"identical twin\")\n"
   ]
  },
  {
   "cell_type": "code",
   "execution_count": null,
   "metadata": {},
   "outputs": [],
   "source": [
    "rcmd.run_command('./createdir_example_synthetic.sh')"
   ]
  },
  {
   "cell_type": "code",
   "execution_count": 31,
   "metadata": {},
   "outputs": [
    {
     "name": "stdout",
     "output_type": "stream",
     "text": [
      "/home/prs/esa_demo_pre2/tool_intro/example_synthetic\n"
     ]
    }
   ],
   "source": [
    "cd tool_intro/example_synthetic/"
   ]
  },
  {
   "cell_type": "code",
   "execution_count": 2,
   "metadata": {},
   "outputs": [
    {
     "name": "stdout",
     "output_type": "stream",
     "text": [
      "total 1908\r\n",
      "-rw-rw-r--  1 prs prs     499 Apr  3 07:45 README-DERIVATIVES.txt\r\n",
      "-rw-rw-r--  1 prs prs     390 Apr  3 07:45 readme\r\n",
      "-rw-rw-r--  1 prs prs      85 Apr  3 07:45 Make-local.inc\r\n",
      "-rw-rw-r--  1 prs prs   19296 Apr  3 07:45 Makefile\r\n",
      "drwxrwxr-x  2 prs prs    4096 Apr  3 07:45 \u001b[0m\u001b[01;34mlbfgsb\u001b[0m/\r\n",
      "drwxrwxr-x  2 prs prs    4096 Apr  3 07:45 \u001b[01;34minput\u001b[0m/\r\n",
      "drwxrwxr-x  2 prs prs    4096 Apr  3 07:45 \u001b[01;34meispack\u001b[0m/\r\n",
      "drwxrwxr-x  2 prs prs    4096 Apr  3 07:45 \u001b[01;34mdriver\u001b[0m/\r\n",
      "drwxrwxr-x  2 prs prs    4096 Apr  3 07:45 \u001b[01;34mbin\u001b[0m/\r\n",
      "drwxrwxr-x  8 prs prs    4096 Apr  3 07:45 \u001b[01;34msrc\u001b[0m/\r\n",
      "-rwxrwxr-x  1 prs prs  282400 Apr  3 07:45 \u001b[01;32msimulate.x\u001b[0m*\r\n",
      "-rwxrwxr-x  1 prs prs 1593320 Apr  3 07:45 \u001b[01;32mrunretrieval.x\u001b[0m*\r\n",
      "-rw-rw-r--  1 prs prs     146 Apr  3 07:45 Make-local.inc.save\r\n",
      "lrwxrwxrwx  1 prs prs      17 Apr  3 07:45 \u001b[01;36mcost_fn.png\u001b[0m -> \u001b[01;32m../../cost_fn.png\u001b[0m*\r\n",
      "drwxrwxr-x  2 prs prs    4096 Apr  3 07:45 \u001b[01;34mobjs\u001b[0m/\r\n",
      "drwxrwxr-x  2 prs prs    4096 Apr  3 07:45 \u001b[01;34mlib\u001b[0m/\r\n",
      "drwxrwxr-x  3 prs prs    4096 Apr  3 07:45 \u001b[01;34m..\u001b[0m/\r\n",
      "drwxrwxr-x 10 prs prs    4096 Apr  3 07:45 \u001b[01;34m.\u001b[0m/\r\n"
     ]
    }
   ],
   "source": [
    "ls -ralt"
   ]
  },
  {
   "cell_type": "markdown",
   "metadata": {},
   "source": [
    "### Terminate installation by setting up link to Signature Simulator installed on system:\n",
    "(This has to be done only once)"
   ]
  },
  {
   "cell_type": "code",
   "execution_count": 8,
   "metadata": {},
   "outputs": [
    {
     "name": "stdout",
     "output_type": "stream",
     "text": [
      "bin/rs_setup.py\n",
      "------------------------------\n",
      " Retrieval System Setup properly finished, Retrieval System ready for use!\n",
      "------------------------------\n"
     ]
    },
    {
     "data": {
      "text/plain": [
       "0"
      ]
     },
     "execution_count": 8,
     "metadata": {},
     "output_type": "execute_result"
    }
   ],
   "source": [
    "# terminate the installation\n",
    "rcmd.run_command('make setup')"
   ]
  },
  {
   "cell_type": "code",
   "execution_count": null,
   "metadata": {},
   "outputs": [],
   "source": [
    "ls -ralt input/"
   ]
  },
  {
   "cell_type": "markdown",
   "metadata": {},
   "source": [
    "### The protoype retrieval tool is shipped with a Makefile providing dedicated targets that illustrate it's basic usage\n",
    "We will be looking into a target which runs a retrieval with synthetic data for both S1 and S2:"
   ]
  },
  {
   "cell_type": "code",
   "execution_count": 5,
   "metadata": {},
   "outputs": [
    {
     "name": "stdout",
     "output_type": "stream",
     "text": [
      "complete: simulate.x runretrieval.x\r\n",
      "\t$(MAKE) clean_exp\r\n",
      "\t$(MAKE) presynthetic\r\n",
      "\t$(MAKE) synthetic\r\n",
      "\t$(MAKE) retrieval\r\n",
      "\t$(MAKE) save_exp SAVDIR=resdir_$(EXPV)_$@\r\n"
     ]
    }
   ],
   "source": [
    "cat ../mk.complete.txt"
   ]
  },
  {
   "cell_type": "markdown",
   "metadata": {},
   "source": [
    "### First we need to compile the drivers\n",
    "The drivers `simulate.x` (to create synthetic observations) and `runretrieval.x` (which performs the actual retrieval including target processing) are implemented in Fortran."
   ]
  },
  {
   "cell_type": "code",
   "execution_count": null,
   "metadata": {},
   "outputs": [],
   "source": [
    "rcmd.run_command('make simulate.x runretrieval.x')"
   ]
  },
  {
   "cell_type": "markdown",
   "metadata": {},
   "source": [
    "### Preproccessing step\n",
    "It's task is to prepare the required input for creation of synthetic observations and performing the actual retrieval The preprocessor is a python script and is interfacing with the Fortran drivers via a set of Fortran-namelist and NetCDF files."
   ]
  },
  {
   "cell_type": "code",
   "execution_count": 9,
   "metadata": {},
   "outputs": [
    {
     "name": "stdout",
     "output_type": "stream",
     "text": [
      "\r\n",
      "pregeneral:\r\n",
      "\t$(MAKE) pre PRE_MODE=pre_general\r\n",
      ".PHONY: pregeneral\r\n",
      "\r\n",
      "presynthetic:\r\n",
      "\t$(MAKE) pre PRE_MODE=pre_synthetic\r\n",
      ".PHONY: presynthetic\r\n",
      "\r\n",
      "\r\n",
      "pre:\r\n",
      "\t( args=\"\";   \\\r\n",
      "          if [ \"x$(PRE_MODE)\" = \"xpre_synthetic\" ]; then \\\r\n",
      "            args=\"--time_start $(TIMSTART) --time_end $(TIMEND)\"; \\\r\n",
      "            if [ \"x$(NOXTGT)\" = \"x\" ]; \\\r\n",
      "            then \\\r\n",
      "              args=\"$${args} --target_schedule $(TGTSCHEDULE_FILE)\"; \\\r\n",
      "            fi; \\\r\n",
      "\t    if [ \"x$(MISSION_LST)\" != \"x\" ]; \\\r\n",
      "            then \\\r\n",
      "\t      args=\"$${args} --mission_lst $(MISSION_LST)\"; \\\r\n",
      "            fi; \\\r\n",
      "          fi; \\\r\n",
      "          args=\"$${args} $(PREARGXTRA)\"; \\\r\n",
      "\t  $(RS_PRE_TOOL) $(PRE_MODE) $${args} 2>&1 | tee mk.$@.log; \\\r\n",
      "        )\r\n",
      "\r\n",
      "RS_PRE_TOOL     := bin/rs_pre.py\r\n",
      "TIMSTART        := 20170501\r\n",
      "TIMEND          := 20170531\r\n",
      "TGTSCHEDULE_FILE := input/target_schedule_2017.txt\r\n"
     ]
    }
   ],
   "source": [
    "cat ../mk.pre.txt"
   ]
  },
  {
   "cell_type": "code",
   "execution_count": 10,
   "metadata": {},
   "outputs": [
    {
     "name": "stdout",
     "output_type": "stream",
     "text": [
      "2019-04-03 08:51:10,278 INFO::<module>:: rs_pre.py::PROGRAM START::2019-04-03T08:51:10.278308\n",
      "2019-04-03 08:51:10,278 INFO::<module>:: command-line: bin/rs_pre.py pre_synthetic -h\n",
      "usage: ==================================================\n",
      "PROJECT\n",
      "\n",
      "Sentinel Synergy Study (S^3)\n",
      "\n",
      "DESCRIPTION\n",
      "\n",
      "Retrieval System Preprocessor\n",
      "\n",
      "Implements/Provides all preprocessing steps required to operate the retrieval\n",
      "prototype system\n",
      "\n",
      "EXAMPLES\n",
      "\n",
      "available options are listed by invoking 'rs_pre.py -h' on the command line\n",
      "\n",
      "EXIT STATUS\n",
      "\n",
      "should be 0 in case of success, 1 otherwise\n",
      "\n",
      "AUTHOR\n",
      "\n",
      "The Inversion Lab, Michael Vossbeck <Michael.Vossbeck@Inversion-Lab.com>\n",
      "\n",
      "================================================== pre_synthetic\n",
      "       [-h] [--time_start TIME_START] [--time_end TIME_END]\n",
      "       [--target_select target_tmin target_tmax target_tdelta]\n",
      "       [--target_schedule TARGET_SCHEDULE] [--site_nml SITE_NML]\n",
      "       [--use_generic_prior] [--prior_inifile PRIOR_INIFILE]\n",
      "       [--mission_lst {S1A,S1B,S2A,S2B} [{S1A,S1B,S2A,S2B} ...]]\n",
      "       [--no_use_prior] [--no_use_model]\n",
      "\n",
      "optional arguments:\n",
      "  -h, --help            show this help message and exit\n",
      "  --time_start TIME_START\n",
      "                        retrieval system will discard time-points before the\n",
      "                        date given here (fmt: YYYYMMDDTHH:MM). However further\n",
      "                        temporal restriction may result from invoking options\n",
      "                        --target_select or --target_schedule.\n",
      "  --time_end TIME_END   retrieval system will discard time-points after the\n",
      "                        date given here (fmt: YYYYMMDDTHH:MM). Howeveer,\n",
      "                        further temporal restriction may result from invoking\n",
      "                        options --target_select or --target_schedule.\n",
      "  --target_select target_tmin target_tmax target_tdelta\n",
      "                        selection of series of equally distributed extra\n",
      "                        target time points. This must be a comma separated\n",
      "                        triple of the form 'tmin,tmax,tdelta' where tmim,tmax\n",
      "                        are time-points with format 'YYYYMMDDTHH:MM' and\n",
      "                        tdelta must be specified as Xd or Xh with integer X.\n",
      "                        (Note that option --target_schedule has priority over\n",
      "                        setting made here!)\n",
      "  --target_schedule TARGET_SCHEDULE\n",
      "                        specify name of a target schedule file from which\n",
      "                        extra time points will be read. This file must contain\n",
      "                        a single time-point per line specified as\n",
      "                        'YYYYMMDDTHH:MM:SS'.\n",
      "  --site_nml SITE_NML   specification namelist file for selected site. If none\n",
      "                        is given a default namelist file suitable for the\n",
      "                        Wallerfing site will be used.\n",
      "  --use_generic_prior   whether the generic prior suitable for agriculture\n",
      "                        sites should be used (By default a default prior from\n",
      "                        JULES shipped with the signature simulator is applied)\n",
      "  --prior_inifile PRIOR_INIFILE\n",
      "                        ini file to specify temporally constant prior control\n",
      "                        vector components and their uncertainties. (NOTE: this\n",
      "                        option has priority over --use_generic_prior)\n",
      "  --mission_lst {S1A,S1B,S2A,S2B} [{S1A,S1B,S2A,S2B} ...]\n",
      "                        list of satellite missions for which synthetic\n",
      "                        observations should be generated (default: [])\n",
      "  --no_use_prior        whether to discard the prior information for the\n",
      "                        retrieval\n",
      "  --no_use_model        whether to discard the dynamical model on the state\n",
      "                        vector for the retrieval\n"
     ]
    },
    {
     "data": {
      "text/plain": [
       "0"
      ]
     },
     "execution_count": 10,
     "metadata": {},
     "output_type": "execute_result"
    }
   ],
   "source": [
    "rcmd.run_command('bin/rs_pre.py pre_synthetic -h')"
   ]
  },
  {
   "cell_type": "markdown",
   "metadata": {},
   "source": [
    "Extra target retrieval times of interest (without presence of an observation) can be specified by a so called\n",
    "`target schedule file`:"
   ]
  },
  {
   "cell_type": "code",
   "execution_count": 11,
   "metadata": {},
   "outputs": [
    {
     "name": "stdout",
     "output_type": "stream",
     "text": [
      "#selected points of time for target processor fmt='%Y%m%dT%H:%M:%S'\r\n",
      "20170510T12:00:00\r\n",
      "20170511T12:00:00\r\n",
      "20170512T12:00:00\r\n",
      "20170513T12:00:00\r\n",
      "20170514T12:00:00\r\n",
      "20170515T12:00:00\r\n",
      "20170516T12:00:00\r\n",
      "20170517T12:00:00\r\n",
      "20170518T12:00:00\r\n",
      "20170519T12:00:00\r\n",
      "20170520T12:00:00\r\n"
     ]
    }
   ],
   "source": [
    "cat input/target_schedule_2017.txt"
   ]
  },
  {
   "cell_type": "markdown",
   "metadata": {},
   "source": [
    "Run preprocessing (here for the period May 2017)..."
   ]
  },
  {
   "cell_type": "code",
   "execution_count": 12,
   "metadata": {},
   "outputs": [
    {
     "name": "stdout",
     "output_type": "stream",
     "text": [
      "make pre PRE_MODE=pre_synthetic\n",
      "make[1]: Entering directory '/home/prs/esa_demo_pre2/tool_intro/example_synthetic'\n",
      "( args=\"\";   \\\n",
      "          if [ \"xpre_synthetic\" = \"xpre_synthetic\" ]; then \\\n",
      "            args=\"--time_start 20170501 --time_end 20170531\"; \\\n",
      "            if [ \"x\" = \"x\" ]; \\\n",
      "            then \\\n",
      "              args=\"${args} --target_schedule input/target_schedule_2017.txt\"; \\\n",
      "            fi; \\\n",
      "    if [ \"xS1A S1B S2A S2B\" != \"x\" ]; \\\n",
      "            then \\\n",
      "      args=\"${args} --mission_lst S1A S1B S2A S2B\"; \\\n",
      "            fi; \\\n",
      "          fi; \\\n",
      "          args=\"${args} \"; \\\n",
      "  bin/rs_pre.py pre_synthetic ${args} 2>&1 | tee mk.pre.log; \\\n",
      "        )\n",
      "2019-04-03 08:52:45,484 INFO::<module>:: rs_pre.py::PROGRAM START::2019-04-03T08:52:45.484300\n",
      "2019-04-03 08:52:45,484 INFO::<module>:: command-line: bin/rs_pre.py pre_synthetic --time_start 20170501 --time_end 20170531 --target_schedule input/target_schedule_2017.txt --mission_lst S1A S1B S2A S2B\n",
      "2019-04-03 08:52:45,487 INFO::main:: user selection +++pre_synthetic+++\n",
      "2019-04-03 08:52:45,487 INFO::pre_synthetic:: 'site.nml' was created as copy of Wallerfing default namelist file ***/home/prs/.local/lib/python2.7/site-packages/signaturesimulator/site.nml***\n",
      "2019-04-03 08:52:45,487 INFO::pre_synthetic:: START reading namelist ***site.nml***...\n",
      "2019-04-03 08:52:45,488 INFO::pre_synthetic:: ...reading DONE\n",
      "2019-04-03 08:52:45,490 INFO::pre_synthetic:: operating for temporal range 2017-05-01T00:00:00 - 2017-05-31T23:59:59 (num_days=30)\n",
      "2019-04-03 08:52:45,490 INFO::pre_synthetic:: selected mission_lst: ['S1A', 'S1B', 'S2A', 'S2B']\n",
      "2019-04-03 08:52:45,496 INFO::load_obs_csv:: observation data loaded from file ***/home/prs/esa_demo_pre2/tool_intro/example_synthetic/input/mni_s1_508_med_2017.csv***\n",
      "2019-04-03 08:52:45,498 INFO::load_obs_csv:: detected ntimepts=177 #columns=10 in csv file\n",
      "2019-04-03 08:52:45,498 INFO::load_obs_csv:: start reading S1 observations...\n",
      "2019-04-03 08:52:45,499 INFO::load_obs_csv:: observation data loaded from file ***/home/prs/esa_demo_pre2/tool_intro/example_synthetic/input/mni_s2_508_med_2017.csv***\n",
      "2019-04-03 08:52:45,500 INFO::load_obs_csv:: detected ntimepts=21 #columns=21 in csv file\n",
      "2019-04-03 08:52:45,500 INFO::load_obs_csv:: start reading S2 observations...\n",
      "2019-04-03 08:52:45,500 INFO::_read_target_schedule:: target schedule will be read from file ***input/target_schedule_2017.txt***\n",
      "2019-04-03 08:52:45,500 INFO::_read_target_schedule:: ...reading target schedule DONE (nxtgt=11)\n",
      "2019-04-03 08:52:45,500 INFO::setup_common_schedule:: determined ntpts=30\n",
      "2019-04-03 08:52:45,500 INFO::setup_common_schedule:: common schedule yields time-points  S1A=10 S1B=7 S2A=2 S2B=0 other=11\n",
      "2019-04-03 08:52:45,501 INFO::set_prior_priorunc_synthetic:: START reading state variables from file ***/home/prs/esa_demo_pre2/tool_intro/example_synthetic/input/mni_stat_jules_2017.csv***...\n",
      "2019-04-03 08:52:45,509 INFO::set_prior_priorunc_synthetic:: ...reading DONE\n",
      "2019-04-03 08:52:45,521 INFO::_set_priorunc:: applied relative uncertainty 1.0 on lai coefficients.\n",
      "2019-04-03 08:52:45,521 INFO::_set_priorunc:: applied relative uncertainty on state vector components, lai_relunc=0.5 canht_relunc=0.5 sm_relunc=0.5\n",
      "2019-04-03 08:52:45,521 INFO::_set_priorunc:: uncertainty floor values were applied as follows: lai_uncfloor=0.001 canht_uncfloor=0.001 sm_uncfloor=0.001\n",
      "2019-04-03 08:52:45,522 INFO::set_dynmodel:: Applying default values on dynamical model uncertainties.\n",
      "2019-04-03 08:52:45,522 INFO::ncwrt_retrieval_config:: Start writing configuration file ***retrconfig.nc***...\n",
      "2019-04-03 08:52:45,527 INFO::ncwrt_retrieval_config:: ...writing ***retrconfig.nc*** DONE\n",
      "2019-04-03 08:52:45,527 INFO::ncwrt_retrieval_prior:: Start writing configuration file ***retrprior.nc***...\n",
      "2019-04-03 08:52:45,534 INFO::ncwrt_retrieval_prior:: ...writing ***retrprior.nc*** DONE\n",
      "2019-04-03 08:52:45,535 INFO::ncwrt_retrieval_model:: Start writing configuration file ***retrmodel.nc***...\n",
      "2019-04-03 08:52:45,542 INFO::ncwrt_retrieval_model:: ...writing ***retrmodel.nc*** DONE\n",
      "2019-04-03 08:52:45,542 INFO::wrt_nml_retrieval_control:: Start writing configuration file ***retrctl.nml***...\n",
      "2019-04-03 08:52:45,542 INFO::wrt_nml_retrieval_control:: ...writing ***retrctl.nml*** DONE\n",
      "2019-04-03 08:52:45,542 INFO::wrt_nml_controlvector_bounds:: Start writing configuration file ***retrctlvecbounds.nml***...\n",
      "2019-04-03 08:52:45,542 INFO::wrt_nml_controlvector_bounds:: ...writing ***retrctlvecbounds.nml*** DONE\n",
      "make[1]: Leaving directory '/home/prs/esa_demo_pre2/tool_intro/example_synthetic'\n"
     ]
    },
    {
     "data": {
      "text/plain": [
       "0"
      ]
     },
     "execution_count": 12,
     "metadata": {},
     "output_type": "execute_result"
    }
   ],
   "source": [
    "rcmd.run_command('make presynthetic MISSION_LST=\"S1A S1B S2A S2B\"')"
   ]
  },
  {
   "cell_type": "code",
   "execution_count": null,
   "metadata": {},
   "outputs": [],
   "source": [
    "ls -ralt"
   ]
  },
  {
   "cell_type": "markdown",
   "metadata": {},
   "source": [
    "We take a short look into two of the generated files only.\n",
    "`site.nml` containes site-specific parameters that control the simulation (for the synthetic case settings suitable for the Munich site are applied). `retrctl.nml` is dedicated to control the inversion."
   ]
  },
  {
   "cell_type": "code",
   "execution_count": 13,
   "metadata": {},
   "outputs": [
    {
     "name": "stdout",
     "output_type": "stream",
     "text": [
      "&site_params\r\n",
      "    !location\r\n",
      "    lat = 12.88  !latitude of site\r\n",
      "    lon = 48.684  !longitude of site\r\n",
      "\r\n",
      "    !soil characteristics\r\n",
      "    clay = 0.23  !fraction soil texture clay\r\n",
      "    sand = 0.27  !fraction soil texture sand\r\n",
      "    bulk = 1.65  !soil bulk density (g cm-3)\r\n",
      "\r\n",
      "    !microwave sense params\r\n",
      "    freq = 5.405  !frequency (GHz)\r\n",
      "    s = 0.015  !surface rms height (m)\r\n",
      "    lai_coeff_kv = 0.1  !coefficient of lai for which to calculate extinction and volume scattering coefficients in V pol.\r\n",
      "    lai_coeff_kh = 0.1  !coefficient of lai for which to calculate extinction and volume scattering coefficients in H pol.\r\n",
      "    omega = 0.1  !coefficient for calculation of volume scattering coefficients\r\n",
      "\r\n",
      "    !optical semi discrete params\r\n",
      "    mode = 'fast'  !mode to run semiDiscrete in 'fast' or 'slow'\r\n",
      "    rsl1 = 0.2  !weight of the first soil vector, default: 0.2\r\n",
      "    sm_coeff = 0.5  !weighting of soil moisture impact, bound between (0,1)\r\n",
      "    cab = 75.0  !leaf chlorophyl concentration, default: 75.0\r\n",
      "    cw = 0.01  !equivelant leaf water thickness, default: 0.01\r\n",
      "/\r\n"
     ]
    }
   ],
   "source": [
    "cat site.nml"
   ]
  },
  {
   "cell_type": "markdown",
   "metadata": {},
   "source": [
    "The initial guess for the control vector when running the inversion procedure, will be the prior perturbed by 25%!"
   ]
  },
  {
   "cell_type": "code",
   "execution_count": 14,
   "metadata": {},
   "outputs": [
    {
     "name": "stdout",
     "output_type": "stream",
     "text": [
      "&RETRCTL\r\n",
      "  retr_use_prior_term = .true. ! if .true. then J_p included in Eq. 1.5\r\n",
      "  retr_use_model_term = .true. ! if .true. then J_m included in Eq. 1.5\r\n",
      "  gradient_tol = 1.000000e-05 ! stopping criterion for minimisation: rel. reduction in gradient norm\r\n",
      "  prior_pert = 2.500000e-01 ! initial guess will be the prior times (1+prior_pert)\r\n",
      "/\r\n"
     ]
    }
   ],
   "source": [
    "cat retrctl.nml"
   ]
  },
  {
   "cell_type": "markdown",
   "metadata": {},
   "source": [
    "![Cost function components](cost_fn.png)"
   ]
  },
  {
   "cell_type": "code",
   "execution_count": 15,
   "metadata": {},
   "outputs": [
    {
     "name": "stdout",
     "output_type": "stream",
     "text": [
      "complete: simulate.x runretrieval.x\r\n",
      "\t$(MAKE) clean_exp\r\n",
      "\t$(MAKE) presynthetic\r\n",
      "\t$(MAKE) synthetic\r\n",
      "\t$(MAKE) retrieval\r\n",
      "\t$(MAKE) save_exp SAVDIR=resdir_$(EXPV)_$@\r\n"
     ]
    }
   ],
   "source": [
    "cat ../mk.complete.txt"
   ]
  },
  {
   "cell_type": "markdown",
   "metadata": {},
   "source": [
    "### Now start creation of synthetic observations...\n",
    "This means here, we are generating observations with the `prior control vector`!"
   ]
  },
  {
   "cell_type": "code",
   "execution_count": 16,
   "metadata": {},
   "outputs": [
    {
     "name": "stdout",
     "output_type": "stream",
     "text": [
      "gfortran -o simulate.x -O3 -funroll-loops -floop-block -ftree-loop-distribution -march=native objs/runsim.o lib/libmodel.a lib/libsupport.a -L/usr/lib/x86_64-linux-gnu/lib -lnetcdff -lnetcdf\n",
      "rm -f obs_s1.nc obs_s2.nc\n",
      "./simulate.x  2>&1 | tee mk.synthetic.log\n",
      "if [ -f sensimul_s1.nc ]; then mv sensimul_s1.nc obs_s1.nc; fi; \\\n",
      " if [ -f sensimul_s2.nc ]; then mv sensimul_s2.nc obs_s2.nc; fi\n"
     ]
    },
    {
     "data": {
      "text/plain": [
       "0"
      ]
     },
     "execution_count": 16,
     "metadata": {},
     "output_type": "execute_result"
    }
   ],
   "source": [
    "rcmd.run_command('make synthetic -n')"
   ]
  },
  {
   "cell_type": "code",
   "execution_count": 17,
   "metadata": {},
   "outputs": [
    {
     "name": "stdout",
     "output_type": "stream",
     "text": [
      "gfortran -o simulate.x -O3 -funroll-loops -floop-block -ftree-loop-distribution -march=native objs/runsim.o lib/libmodel.a lib/libsupport.a -L/usr/lib/x86_64-linux-gnu/lib -lnetcdff -lnetcdf\n",
      "./simulate.x  2>&1 | tee mk.synthetic.log\n",
      " INFO::runsim:calling initf...\n",
      " DEBUG::load_ivgeom:ndims= 2\n",
      " INFO::initf:retrieval configuration was read from ***retrconfig.nc***\n",
      " DEBUG::initf:ncrd_retrieval_config has finished, yields:npts=  30 npts_s1=  17 npts_s2=   2\n",
      " INFO::load_sitenml:successfully read site namelist file ***site.nml***\n",
      " INFO::setprior:prior control vector was read from ***retrprior.nc***\n",
      " DEBUG::setprior:ncrd_retrieval_prior terminated successfully\n",
      " INFO::runsim:...done.\n",
      " DEBUG::runsim:initf yields:n= 92 m= 60\n",
      " INFO::runsim:calling initx...\n",
      " INFO::runsim:...DONE.\n",
      " DEBUG::runsim::calling simulate_s1s2 at x ...\n",
      "  j     x-physical       x-scaled        x-sigma\n",
      "  1     0.10000000     1.00000000     0.10000000\n",
      "  2     0.10000000     1.00000000     0.10000000\n",
      "  3     0.00284149     2.00000000     0.00142075\n",
      "  4     0.01342839     2.00000000     0.00671420\n",
      "  5     0.28455981     2.00000000     0.14227991\n",
      "  6     0.00627885     2.00000000     0.00313942\n",
      "  7     0.03541716     2.00000000     0.01770858\n",
      "  8     0.28801311     2.00000000     0.14400656\n",
      "  9     0.00824974     2.00000000     0.00412487\n",
      " 10     0.04565758     2.00000000     0.02282879\n",
      " 11     0.28554950     2.00000000     0.14277475\n",
      " 12     0.01644818     2.00000000     0.00822409\n",
      " 13     0.09222028     2.00000000     0.04611014\n",
      " 14     0.28370108     2.00000000     0.14185054\n",
      " 15     0.03168483     2.00000000     0.01584241\n",
      " 16     0.15342582     2.00000000     0.07671291\n",
      " 17     0.27979069     2.00000000     0.13989534\n",
      " 18     0.03168483     2.00000000     0.01584241\n",
      " 19     0.15342582     2.00000000     0.07671291\n",
      " 20     0.27979069     2.00000000     0.13989534\n",
      " 21     0.03707801     2.00000000     0.01853900\n",
      " 22     0.16806589     2.00000000     0.08403294\n",
      " 23     0.27940469     2.00000000     0.13970234\n",
      " 24     0.03707801     2.00000000     0.01853900\n",
      " 25     0.16806589     2.00000000     0.08403294\n",
      " 26     0.27940469     2.00000000     0.13970234\n",
      " 27     0.04382192     2.00000000     0.02191096\n",
      " 28     0.18602840     2.00000000     0.09301420\n",
      " 29     0.27960679     2.00000000     0.13980339\n",
      " 30     0.05155006     2.00000000     0.02577503\n",
      " 31     0.20700236     2.00000000     0.10350118\n",
      " 32     0.27728384     2.00000000     0.13864192\n",
      " 33     0.05155006     2.00000000     0.02577503\n",
      " 34     0.20700236     2.00000000     0.10350118\n",
      " 35     0.27728384     2.00000000     0.13864192\n",
      " 36     0.05964746     2.00000000     0.02982373\n",
      " 37     0.22789575     2.00000000     0.11394788\n",
      " 38     0.28255366     2.00000000     0.14127683\n",
      " 39     0.05964746     2.00000000     0.02982373\n",
      " 40     0.22789575     2.00000000     0.11394788\n",
      " 41     0.28255366     2.00000000     0.14127683\n",
      " 42     0.06747962     2.00000000     0.03373981\n",
      " 43     0.24303707     2.00000000     0.12151853\n",
      " 44     0.28171770     2.00000000     0.14085885\n",
      " 45     0.07631668     2.00000000     0.03815834\n",
      " 46     0.25943651     2.00000000     0.12971826\n",
      " 47     0.27668472     2.00000000     0.13834236\n",
      " 48     0.07631668     2.00000000     0.03815834\n",
      " 49     0.25943651     2.00000000     0.12971826\n",
      " 50     0.27668472     2.00000000     0.13834236\n",
      " 51     0.08685178     2.00000000     0.04342589\n",
      " 52     0.27788649     2.00000000     0.13894324\n",
      " 53     0.27522027     2.00000000     0.13761014\n",
      " 54     0.08685178     2.00000000     0.04342589\n",
      " 55     0.27788649     2.00000000     0.13894324\n",
      " 56     0.27522027     2.00000000     0.13761014\n",
      " 57     0.08685178     2.00000000     0.04342589\n",
      " 58     0.27788649     2.00000000     0.13894324\n",
      " 59     0.27522027     2.00000000     0.13761014\n",
      " 60     0.09830192     2.00000000     0.04915096\n",
      " 61     0.29694491     2.00000000     0.14847245\n",
      " 62     0.27428031     2.00000000     0.13714015\n",
      " 63     0.11104461     2.00000000     0.05552231\n",
      " 64     0.31681961     2.00000000     0.15840980\n",
      " 65     0.28005061     2.00000000     0.14002530\n",
      " 66     0.11104461     2.00000000     0.05552231\n",
      " 67     0.31681961     2.00000000     0.15840980\n",
      " 68     0.28005061     2.00000000     0.14002530\n",
      " 69     0.12403212     2.00000000     0.06201606\n",
      " 70     0.33627247     2.00000000     0.16813624\n",
      " 71     0.28246529     2.00000000     0.14123264\n",
      " 72     0.15431655     2.00000000     0.07715827\n",
      " 73     0.37875440     2.00000000     0.18937720\n",
      " 74     0.28105870     2.00000000     0.14052935\n",
      " 75     0.17173342     2.00000000     0.08586671\n",
      " 76     0.40170759     2.00000000     0.20085380\n",
      " 77     0.27905553     2.00000000     0.13952776\n",
      " 78     0.21233047     2.00000000     0.10616524\n",
      " 79     0.45178646     2.00000000     0.22589323\n",
      " 80     0.27441822     2.00000000     0.13720911\n",
      " 81     0.26081522     2.00000000     0.13040761\n",
      " 82     0.50773513     2.00000000     0.25386756\n",
      " 83     0.28161933     2.00000000     0.14080966\n",
      " 84     0.28487681     2.00000000     0.14243841\n",
      " 85     0.53630377     2.00000000     0.26815188\n",
      " 86     0.27787859     2.00000000     0.13893929\n",
      " 87     0.31092751     2.00000000     0.15546375\n",
      " 88     0.56726600     2.00000000     0.28363300\n",
      " 89     0.27538337     2.00000000     0.13769168\n",
      " 90     0.36904693     2.00000000     0.18452346\n",
      " 91     0.62726324     2.00000000     0.31363162\n",
      " 92     0.27232275     2.00000000     0.13616137\n",
      " INFO::runsim:calling combinded S1+S2 simulation with simulate_s1s2...\n",
      " INFO::runsim:...done.\n",
      " INFO::simulation_synthetic_unc:S1 synthetic observational unceratainties will be generated with:uncertainty[dB]= 0.40\n",
      " INFO::simulation_synthetic_unc:S2 synthetic observational unceratainties will be generated with:relunc=   0.05000 unc_floor=   0.00050\n",
      " INFO::finishf:simulation for S1 domain has been written to file ***sensimul_s1.nc***\n",
      " INFO::finishf:simulation for S2 domain has been written to file ***sensimul_s2.nc***\n"
     ]
    },
    {
     "data": {
      "text/plain": [
       "0"
      ]
     },
     "execution_count": 17,
     "metadata": {},
     "output_type": "execute_result"
    }
   ],
   "source": [
    "rcmd.run_command('make synthetic')"
   ]
  },
  {
   "cell_type": "code",
   "execution_count": 18,
   "metadata": {},
   "outputs": [
    {
     "name": "stdout",
     "output_type": "stream",
     "text": [
      "total 2056\r\n",
      "-rw-rw-r--  1 prs prs     499 Apr  3 07:45 README-DERIVATIVES.txt\r\n",
      "-rw-rw-r--  1 prs prs     390 Apr  3 07:45 readme\r\n",
      "-rw-rw-r--  1 prs prs      85 Apr  3 07:45 Make-local.inc\r\n",
      "-rw-rw-r--  1 prs prs   19296 Apr  3 07:45 Makefile\r\n",
      "drwxrwxr-x  2 prs prs    4096 Apr  3 07:45 \u001b[0m\u001b[01;34mlbfgsb\u001b[0m/\r\n",
      "drwxrwxr-x  2 prs prs    4096 Apr  3 07:45 \u001b[01;34meispack\u001b[0m/\r\n",
      "drwxrwxr-x  2 prs prs    4096 Apr  3 07:45 \u001b[01;34mdriver\u001b[0m/\r\n",
      "drwxrwxr-x  2 prs prs    4096 Apr  3 07:45 \u001b[01;34mbin\u001b[0m/\r\n",
      "drwxrwxr-x  8 prs prs    4096 Apr  3 07:45 \u001b[01;34msrc\u001b[0m/\r\n",
      "-rwxrwxr-x  1 prs prs 1593320 Apr  3 07:45 \u001b[01;32mrunretrieval.x\u001b[0m*\r\n",
      "-rw-rw-r--  1 prs prs     146 Apr  3 07:45 Make-local.inc.save\r\n",
      "lrwxrwxrwx  1 prs prs      17 Apr  3 07:45 \u001b[01;36mcost_fn.png\u001b[0m -> \u001b[01;32m../../cost_fn.png\u001b[0m*\r\n",
      "drwxrwxr-x  2 prs prs    4096 Apr  3 07:45 \u001b[01;34mobjs\u001b[0m/\r\n",
      "drwxrwxr-x  2 prs prs    4096 Apr  3 07:45 \u001b[01;34mlib\u001b[0m/\r\n",
      "drwxrwxr-x  3 prs prs    4096 Apr  3 07:45 \u001b[01;34m..\u001b[0m/\r\n",
      "drwxrwxr-x  2 prs prs    4096 Apr  3 08:46 \u001b[01;34minput\u001b[0m/\r\n",
      "-rw-rw-r--  1 prs prs    1056 Apr  3 08:52 site.nml\r\n",
      "-rw-rw-r--  1 prs prs   17499 Apr  3 08:52 retrconfig.nc\r\n",
      "-rw-rw-r--  1 prs prs   34641 Apr  3 08:52 retrprior.nc\r\n",
      "-rw-rw-r--  1 prs prs   35554 Apr  3 08:52 retrmodel.nc\r\n",
      "-rw-rw-r--  1 prs prs     203 Apr  3 08:52 retrctlvecbounds.nml\r\n",
      "-rw-rw-r--  1 prs prs     339 Apr  3 08:52 retrctl.nml\r\n",
      "-rw-rw-r--  1 prs prs    3843 Apr  3 08:52 mk.pre.log\r\n",
      "-rwxrwxr-x  1 prs prs  282400 Apr  3 08:58 \u001b[01;32msimulate.x\u001b[0m*\r\n",
      "-rw-rw-r--  1 prs prs   14948 Apr  3 08:58 obs_s2.nc\r\n",
      "-rw-rw-r--  1 prs prs   15196 Apr  3 08:58 obs_s1.nc\r\n",
      "-rw-rw-r--  1 prs prs    5670 Apr  3 08:58 mk.synthetic.log\r\n",
      "drwxrwxr-x 10 prs prs    4096 Apr  3 08:58 \u001b[01;34m.\u001b[0m/\r\n"
     ]
    }
   ],
   "source": [
    "ls -ralt"
   ]
  },
  {
   "cell_type": "markdown",
   "metadata": {},
   "source": [
    "### ... that is how they look like:"
   ]
  },
  {
   "cell_type": "code",
   "execution_count": 19,
   "metadata": {},
   "outputs": [
    {
     "data": {
      "text/plain": [
       "(<Figure size 432x288 with 1 Axes>,\n",
       " <matplotlib.axes._subplots.AxesSubplot at 0x7fb3e2cf85d0>)"
      ]
     },
     "execution_count": 19,
     "metadata": {},
     "output_type": "execute_result"
    },
    {
     "data": {
      "image/png": "[encoded data removed]",
      "text/plain": [
       "<Figure size 432x288 with 1 Axes>"
      ]
     },
     "metadata": {},
     "output_type": "display_data"
    }
   ],
   "source": [
    "plot_syn.plot_obs_s1('obs_s1.nc')"
   ]
  },
  {
   "cell_type": "code",
   "execution_count": 20,
   "metadata": {},
   "outputs": [
    {
     "data": {
      "text/plain": [
       "(<Figure size 432x288 with 1 Axes>,\n",
       " <matplotlib.axes._subplots.AxesSubplot at 0x7fb3e2c52f10>)"
      ]
     },
     "execution_count": 20,
     "metadata": {},
     "output_type": "execute_result"
    },
    {
     "data": {
      "image/png": "[encoded data removed]",
      "text/plain": [
       "<Figure size 432x288 with 1 Axes>"
      ]
     },
     "metadata": {},
     "output_type": "display_data"
    }
   ],
   "source": [
    "plot_syn.plot_obs_s2('obs_s2.nc')"
   ]
  },
  {
   "cell_type": "markdown",
   "metadata": {},
   "source": [
    "### Based on this \"observational data\" and the settings created by the preprocessor, we can now start with the retrieval"
   ]
  },
  {
   "cell_type": "code",
   "execution_count": null,
   "metadata": {},
   "outputs": [],
   "source": [
    "rcmd.run_command('make retrieval -n')"
   ]
  },
  {
   "cell_type": "code",
   "execution_count": 21,
   "metadata": {},
   "outputs": [
    {
     "name": "stdout",
     "output_type": "stream",
     "text": [
      "\n",
      "STOP 0\n",
      "\n",
      "====================\n",
      " available options:\n",
      "  --dbglev         increase level of verbosity\n",
      "  --no_targets     disable target retrievals (Note: In particular, FAPAR retrieval may be time-consuming)\n",
      "====================\n",
      "\n",
      "\n"
     ]
    },
    {
     "data": {
      "text/plain": [
       "0"
      ]
     },
     "execution_count": 21,
     "metadata": {},
     "output_type": "execute_result"
    }
   ],
   "source": [
    "rcmd.run_command('./runretrieval.x --help')"
   ]
  },
  {
   "cell_type": "markdown",
   "metadata": {},
   "source": [
    "Here, to speed up things, we do this step without retrieving `FAPAR` and `HH backscatter` (in particular retrieving can be expensive in time)"
   ]
  },
  {
   "cell_type": "code",
   "execution_count": 22,
   "metadata": {},
   "outputs": [
    {
     "name": "stdout",
     "output_type": "stream",
     "text": [
      "gfortran -o runretrieval.x -O3 -funroll-loops -floop-block -ftree-loop-distribution -march=native objs/runretrieval.o lib/libretr.a lib/libderiv.a lib/libmodel.a lib/libsupport.a lib/liblbfgsb-gfortran.a lib/libeis.a -L/usr/lib/x86_64-linux-gnu/lib -lnetcdff -lnetcdf\n",
      "./runretrieval.x --no_targets 2>&1 | tee mk.retrieval.log\n",
      " INFO::retrieval_read_ctl:read settings from file ***retrctl.nml***...\n",
      " INFO::retrieval_read_ctl:...reading done.\n",
      " INFO::use_prior_term: T\n",
      " INFO::use_state_term: T\n",
      " INFO::gradient_tolerance: .10000E-04\n",
      " INFO::prior_pert: .25000E+00\n",
      " INFO::runretrieval:will apply relative perturbation of prior with pert=  0.25\n",
      " INFO::runretrieval:calling initf...\n",
      " DEBUG::load_ivgeom:ndims= 2\n",
      " INFO::initf:retrieval configuration was read from ***retrconfig.nc***\n",
      " DEBUG::initf:ncrd_retrieval_config has finished, yields:npts=  30 npts_s1=  17 npts_s2=   2\n",
      " INFO::load_sitenml:successfully read site namelist file ***site.nml***\n",
      " INFO::setprior:prior control vector was read from ***retrprior.nc***\n",
      " DEBUG::setprior:ncrd_retrieval_prior terminated successfully\n",
      " INFO::runretrieval:...done.\n",
      " DEBUG::runretrieval:initf yields:n= 92 mf= 60\n",
      " INFO::runretrieval:calling initx...\n",
      " INFO::runretrieval:...done.\n",
      " INFO::state_model_set:will be setting-up simple state-model of type \"mx(i+1)=a(i+1)*x(i) + b(i+1)\"\n",
      " INFO::state_model_set:reading model configuration from file ***retrmodel.nc***...\n",
      " INFO::state_model_set:...reading done.\n",
      " INFO::runretrieval:start optimise...\n",
      " INFO::optimise:load control vector boundary settings by calling initb...\n",
      " INFO::initb:bounds were read from file ***retrctlvecbounds.nml***\n",
      " INFO::initb:applying bounds: lai_coeff_lobound=    0.000 lai_coeff_hibound=    1.000\n",
      " INFO::initb:applying bounds: lai_lobound=    0.001 lai_hibound=   10.000\n",
      " INFO::initb:applying bounds: canht_lobound=    0.001 canht_hibound=    4.500\n",
      " INFO::initb:applying bounds: sm_lobound=    0.001 sm_hibound=    0.500\n",
      " INFO::optimise:...done.\n",
      " INFO::optimise:start optimiser...\n",
      "RUNNING THE L-BFGS-B CODE\n",
      "\n",
      "           * * *\n",
      "\n",
      "Machine precision = 2.220D-16\n",
      " N =           92     M =            5\n",
      "\n",
      "At X0         0 variables are exactly at the bounds\n",
      " INFO::getobs:initial loading of observations...\n",
      " INFO::getobs:reading S1 observations from ***obs_s1.nc***\n",
      " INFO::ncrd_obs_vector:dataset ---backscatter--- detected fill-value:-99999.00000000\n",
      " INFO::ncrd_obs_vector:dataset ---backscatter_unc--- detected fill-value:-99999.00000000\n",
      " INFO::ncrd_obs_vector:s1 detected no fill-values\n",
      " INFO::ncrd_obs_vector:s1 detected no uncertainthy fill-values\n",
      " INFO::getobs:...loading S1 observations done.\n",
      " INFO::getobs:reading S2 observations from ***obs_s2.nc***\n",
      " INFO::ncrd_obs_vector:dataset ---brf--- detected fill-value:-99999.00000000\n",
      " INFO::ncrd_obs_vector:dataset ---brf_unc--- detected fill-value:-99999.00000000\n",
      " INFO::ncrd_obs_vector:s2 detected no fill-values\n",
      " INFO::ncrd_obs_vector:s2 detected no uncertainthy fill-values\n",
      " INFO::getobs:...loading observations done.\n",
      " INFO::getobs:...initial loading done\n",
      "\n",
      "At iterate    0    f=  8.36339D+01    |proj g|=  8.56239D+00\n",
      "\n",
      "At iterate    1    f=  2.18996D+01    |proj g|=  2.22386D+00\n",
      "\n",
      "At iterate    2    f=  8.87493D+00    |proj g|=  1.62607D+00\n",
      "\n",
      "At iterate    3    f=  8.07128D+00    |proj g|=  1.49258D+00\n",
      "\n",
      "At iterate    4    f=  6.80531D+00    |proj g|=  1.50264D+00\n",
      "\n",
      "At iterate    5    f=  4.31424D+00    |proj g|=  2.07457D+00\n",
      "\n",
      "At iterate    6    f=  1.54046D+00    |proj g|=  2.07501D+00\n",
      "\n",
      "At iterate    7    f=  1.13407D+00    |proj g|=  2.09714D+00\n",
      "\n",
      "At iterate    8    f=  2.93132D-01    |proj g|=  9.95756D-01\n",
      "\n",
      "At iterate    9    f=  1.54802D-01    |proj g|=  5.75304D-01\n",
      "\n",
      "At iterate   10    f=  1.28478D-01    |proj g|=  4.74200D-01\n",
      "\n",
      "At iterate   11    f=  8.35513D-02    |proj g|=  3.45311D-01\n",
      "\n",
      "At iterate   12    f=  4.28309D-02    |proj g|=  4.93997D-01\n",
      "\n",
      "At iterate   13    f=  3.10263D-02    |proj g|=  1.56684D-01\n",
      "\n",
      "At iterate   14    f=  2.70182D-02    |proj g|=  1.33474D-01\n",
      "\n",
      "At iterate   15    f=  2.49276D-02    |proj g|=  1.00470D-01\n",
      "\n",
      "At iterate   16    f=  2.22590D-02    |proj g|=  7.14983D-02\n",
      "\n",
      "At iterate   17    f=  1.91262D-02    |proj g|=  6.12709D-02\n",
      "\n",
      "At iterate   18    f=  1.86450D-02    |proj g|=  3.00585D-02\n",
      "\n",
      "At iterate   19    f=  1.84283D-02    |proj g|=  1.91615D-02\n",
      "\n",
      "At iterate   20    f=  1.82578D-02    |proj g|=  1.98041D-02\n",
      "\n",
      "At iterate   21    f=  1.80469D-02    |proj g|=  1.67977D-02\n",
      "\n",
      "At iterate   22    f=  1.80012D-02    |proj g|=  3.01035D-02\n",
      "\n",
      "At iterate   23    f=  1.79539D-02    |proj g|=  1.01300D-02\n",
      "\n",
      "At iterate   24    f=  1.79290D-02    |proj g|=  8.89931D-03\n",
      "\n",
      "At iterate   25    f=  1.79114D-02    |proj g|=  6.45585D-03\n",
      "\n",
      "At iterate   26    f=  1.79063D-02    |proj g|=  6.21819D-03\n",
      "\n",
      "At iterate   27    f=  1.79012D-02    |proj g|=  2.79872D-03\n",
      "\n",
      "At iterate   28    f=  1.78996D-02    |proj g|=  1.83809D-03\n",
      "\n",
      "At iterate   29    f=  1.78986D-02    |proj g|=  1.70376D-03\n",
      "\n",
      "At iterate   30    f=  1.78982D-02    |proj g|=  1.19318D-03\n",
      "\n",
      "At iterate   31    f=  1.78980D-02    |proj g|=  8.28864D-04\n",
      "\n",
      "At iterate   32    f=  1.78978D-02    |proj g|=  6.60297D-04\n",
      "\n",
      "At iterate   33    f=  1.78976D-02    |proj g|=  1.20796D-03\n",
      "\n",
      "At iterate   34    f=  1.78975D-02    |proj g|=  1.03516D-03\n",
      "\n",
      "At iterate   35    f=  1.78974D-02    |proj g|=  1.85058D-04\n",
      "\n",
      "At iterate   36    f=  1.78974D-02    |proj g|=  1.49455D-04\n",
      "\n",
      "At iterate   37    f=  1.78974D-02    |proj g|=  2.33192D-04\n",
      "\n",
      "At iterate   38    f=  1.78974D-02    |proj g|=  9.72969D-05\n",
      "\n",
      "At iterate   39    f=  1.78974D-02    |proj g|=  9.33369D-05\n",
      "\n",
      "At iterate   40    f=  1.78974D-02    |proj g|=  1.29715D-04\n",
      "\n",
      "At iterate   41    f=  1.78974D-02    |proj g|=  2.72267D-05\n",
      "\n",
      "At iterate   42    f=  1.78974D-02    |proj g|=  2.26497D-05\n",
      "\n",
      "At iterate   43    f=  1.78974D-02    |proj g|=  3.87005D-05\n",
      "\n",
      "At iterate   44    f=  1.78974D-02    |proj g|=  1.57018D-05\n",
      "\n",
      "At iterate   45    f=  1.78974D-02    |proj g|=  5.31081D-05\n",
      "\n",
      "At iterate   46    f=  1.78974D-02    |proj g|=  1.31733D-05\n",
      "\n",
      "At iterate   47    f=  1.78974D-02    |proj g|=  1.01628D-05\n",
      "\n",
      "At iterate   48    f=  1.78974D-02    |proj g|=  7.70607D-06\n",
      "\n",
      "           * * *\n",
      "\n",
      "Tit   = total number of iterations\n",
      "Tnf   = total number of function evaluations\n",
      "Tnint = total number of segments explored during Cauchy searches\n",
      "Skip  = number of BFGS updates skipped\n",
      "Nact  = number of active bounds at final generalized Cauchy point\n",
      "Projg = norm of the final projected gradient\n",
      "F     = final function value\n",
      "\n",
      "           * * *\n",
      "\n",
      "   N    Tit     Tnf  Tnint  Skip  Nact     Projg        F\n",
      "   92     48     57     69     0     0   7.706D-06   1.790D-02\n",
      "  F =   1.7897412000425317E-002\n",
      "\n",
      "CONVERGENCE: NORM_OF_PROJECTED_GRADIENT_<=_PGTOL            \n",
      "\n",
      " Cauchy                time 4.390E-04 seconds.\n",
      " Subspace minimization time 5.540E-04 seconds.\n",
      " Line search           time 5.643E+01 seconds.\n",
      "\n",
      " Total User time 5.744E+01 seconds.\n",
      "\n",
      " INFO::optimise:...optimiser finished.\n",
      " INFO::runretrieval:...optimise DONE\n",
      " INFO::runretrieval::opti_succeed: T\n",
      " \n",
      "        i                Prior           Posterior          Change [%]\n",
      " \n",
      "        1         0.100000E+00        0.100076E+00             0.07596\n",
      "        2         0.100000E+00        0.100043E+00             0.04281\n",
      "        3         0.284149E-02        0.284150E-02             0.00029\n",
      "        4         0.134284E-01        0.134294E-01             0.00743\n",
      "        5         0.284560E+00        0.284567E+00             0.00249\n",
      "        6         0.627885E-02        0.627883E-02            -0.00021\n",
      "        7         0.354172E-01        0.354135E-01            -0.01036\n",
      "        8         0.288013E+00        0.287985E+00            -0.00979\n",
      "        9         0.824974E-02        0.824985E-02             0.00135\n",
      "       10         0.456576E-01        0.456765E-01             0.04152\n",
      "       11         0.285549E+00        0.285567E+00             0.00607\n",
      "       12         0.164482E-01        0.164487E-01             0.00291\n",
      "       13         0.922203E-01        0.922506E-01             0.03286\n",
      "       14         0.283701E+00        0.283697E+00            -0.00149\n",
      "       15         0.316848E-01        0.316811E-01            -0.01191\n",
      "       16         0.153426E+00        0.153071E+00            -0.23145\n",
      "       17         0.279791E+00        0.279797E+00             0.00233\n",
      "       18         0.316848E-01        0.316862E-01             0.00431\n",
      "       19         0.153426E+00        0.153508E+00             0.05382\n",
      "       20         0.279791E+00        0.279718E+00            -0.02606\n",
      "       21         0.370780E-01        0.370762E-01            -0.00490\n",
      "       22         0.168066E+00        0.167966E+00            -0.05971\n",
      "       23         0.279405E+00        0.279407E+00             0.00087\n",
      "       24         0.370780E-01        0.370803E-01             0.00629\n",
      "       25         0.168066E+00        0.168191E+00             0.07415\n",
      "       26         0.279405E+00        0.279387E+00            -0.00639\n",
      "       27         0.438219E-01        0.438224E-01             0.00112\n",
      "       28         0.186028E+00        0.186053E+00             0.01339\n",
      "       29         0.279607E+00        0.279077E+00            -0.18945\n",
      "       30         0.515501E-01        0.515454E-01            -0.00899\n",
      "       31         0.207002E+00        0.206787E+00            -0.10412\n",
      "       32         0.277284E+00        0.277306E+00             0.00790\n",
      "       33         0.515501E-01        0.515554E-01             0.01045\n",
      "       34         0.207002E+00        0.207217E+00             0.10347\n",
      "       35         0.277284E+00        0.278284E+00             0.36083\n",
      "       36         0.596475E-01        0.596393E-01            -0.01372\n",
      "       37         0.227896E+00        0.227633E+00            -0.11543\n",
      "       38         0.282554E+00        0.282518E+00            -0.01270\n",
      "       39         0.596475E-01        0.596544E-01             0.01169\n",
      "       40         0.227896E+00        0.228084E+00             0.08276\n",
      "       41         0.282554E+00        0.282435E+00            -0.04193\n",
      "       42         0.674796E-01        0.674808E-01             0.00173\n",
      "       43         0.243037E+00        0.243054E+00             0.00706\n",
      "       44         0.281718E+00        0.280621E+00            -0.38935\n",
      "       45         0.763167E-01        0.763054E-01            -0.01473\n",
      "       46         0.259437E+00        0.259180E+00            -0.09896\n",
      "       47         0.276685E+00        0.276712E+00             0.00992\n",
      "       48         0.763167E-01        0.763320E-01             0.02003\n",
      "       49         0.259437E+00        0.259727E+00             0.11208\n",
      "       50         0.276685E+00        0.276413E+00            -0.09819\n",
      "       51         0.868518E-01        0.868328E-01            -0.02184\n",
      "       52         0.277886E+00        0.277551E+00            -0.12059\n",
      "       53         0.275220E+00        0.275228E+00             0.00292\n",
      "       54         0.868518E-01        0.868519E-01             0.00013\n",
      "       55         0.277886E+00        0.277886E+00            -0.00024\n",
      "       56         0.275220E+00        0.275221E+00             0.00016\n",
      "       57         0.868518E-01        0.868733E-01             0.02481\n",
      "       58         0.277886E+00        0.278241E+00             0.12758\n",
      "       59         0.275220E+00        0.275240E+00             0.00734\n",
      "       60         0.983019E-01        0.983050E-01             0.00315\n",
      "       61         0.296945E+00        0.296960E+00             0.00495\n",
      "       62         0.274280E+00        0.275586E+00             0.47606\n",
      "       63         0.111045E+00        0.111000E+00            -0.03983\n",
      "       64         0.316820E+00        0.316342E+00            -0.15083\n",
      "       65         0.280051E+00        0.280011E+00            -0.01397\n",
      "       66         0.111045E+00        0.111085E+00             0.03594\n",
      "       67         0.316820E+00        0.317288E+00             0.14776\n",
      "       68         0.280051E+00        0.280163E+00             0.04024\n",
      "       69         0.124032E+00        0.124098E+00             0.05315\n",
      "       70         0.336272E+00        0.336885E+00             0.18215\n",
      "       71         0.282465E+00        0.282209E+00            -0.09080\n",
      "       72         0.154317E+00        0.154238E+00            -0.05097\n",
      "       73         0.378754E+00        0.378145E+00            -0.16086\n",
      "       74         0.281059E+00        0.281039E+00            -0.00707\n",
      "       75         0.171733E+00        0.171905E+00             0.09983\n",
      "       76         0.401708E+00        0.402715E+00             0.25086\n",
      "       77         0.279056E+00        0.279086E+00             0.01087\n",
      "       78         0.212330E+00        0.212438E+00             0.05045\n",
      "       79         0.451786E+00        0.452101E+00             0.06961\n",
      "       80         0.274418E+00        0.274456E+00             0.01364\n",
      "       81         0.260815E+00        0.260815E+00             0.00010\n",
      "       82         0.507735E+00        0.506871E+00            -0.17012\n",
      "       83         0.281619E+00        0.281643E+00             0.00843\n",
      "       84         0.284877E+00        0.284945E+00             0.02402\n",
      "       85         0.536304E+00        0.536533E+00             0.04283\n",
      "       86         0.277879E+00        0.277904E+00             0.00902\n",
      "       87         0.310928E+00        0.311648E+00             0.23165\n",
      "       88         0.567266E+00        0.568973E+00             0.30090\n",
      "       89         0.275383E+00        0.275482E+00             0.03582\n",
      "       90         0.369047E+00        0.367198E+00            -0.50108\n",
      "       91         0.627263E+00        0.622109E+00            -0.82172\n",
      "       92         0.272323E+00        0.272104E+00            -0.08015\n",
      " INFO::writing final control vector to x.b\n",
      " INFO::writing prior uncertainty (physical units) to sx.b\n",
      " INFO::runretrieval:start uncertainty analysis on state...\n",
      " \n",
      " INFO::ua:SVD done with ierr =          0\n",
      " \n",
      " INFO::runretrieval:...uncertainty analysis on state DONE\n",
      " \n",
      "       Extreme off diagonal correlations\n",
      "            Min/Max                 value    i    j\n",
      "                Min              -0.60572   83   82\n",
      "                Max               0.38045   92    1\n",
      " \n",
      " INFO::finishdf:resulting file ***controlvector_prior.nc*** successfully written.\n",
      " INFO::finishdf:resulting file ***controlvector_post.nc*** successfully written.\n"
     ]
    },
    {
     "data": {
      "text/plain": [
       "0"
      ]
     },
     "execution_count": 22,
     "metadata": {},
     "output_type": "execute_result"
    }
   ],
   "source": [
    "rcmd.run_command('make retrieval RETRARGXTRA=--no_targets')"
   ]
  },
  {
   "cell_type": "markdown",
   "metadata": {},
   "source": [
    "Save set of involved files for this experiment in an extra directory (optional, of course)"
   ]
  },
  {
   "cell_type": "code",
   "execution_count": 23,
   "metadata": {},
   "outputs": [
    {
     "name": "stdout",
     "output_type": "stream",
     "text": [
      "if [ \"xex_complete\" != \"x\" ]; then \\\n",
      "          mkdir -p ex_complete; \\\n",
      "          rm -f ex_complete/*; \\\n",
      "          for f in `echo retrconfig.nc retrprior.nc retrmodel.nc retrctl.nml site.nml retrctlvecbounds.nml x.b sx.b fort.[0-9] fort.[0-9][0-9] sensimul_s?.nc sensimul_s?.b sensimul.b x.b sx.b iterate.dat Cx.b sigma.dat xrunua.log sigma.dat mk.pre.log iterate.dat controlvector_prior.nc controlvector_post.nc fapar_prior.nc fapar_post.nc backscatter_hh_prior.nc backscatter_hh_post.nc mk.retrieval.log sigma.dat controlvector_prior.nc controlvector_post.nc fapar_prior.nc fapar_poast.nc backscatter_hh_prior.nc backscatter_hh_post.nc mk.mba.log obs_s1.nc obs_s2.nc simulation.nc mk.synthetic.log`; \\\n",
      "          do \\\n",
      "    if [ -f ${f} ]; \\\n",
      "            then \\\n",
      "              cp -a ${f} ex_complete; \\\n",
      "            fi; \\\n",
      "          done; \\\n",
      "        fi;\n"
     ]
    },
    {
     "data": {
      "text/plain": [
       "0"
      ]
     },
     "execution_count": 23,
     "metadata": {},
     "output_type": "execute_result"
    }
   ],
   "source": [
    "rcmd.run_command('make save_exp SAVDIR=ex_complete')"
   ]
  },
  {
   "cell_type": "code",
   "execution_count": null,
   "metadata": {},
   "outputs": [],
   "source": [
    "ls -ralt ex_complete"
   ]
  },
  {
   "cell_type": "code",
   "execution_count": 26,
   "metadata": {},
   "outputs": [
    {
     "data": {
      "text/plain": [
       "(<Figure size 432x288 with 1 Axes>,\n",
       " <matplotlib.axes._subplots.AxesSubplot at 0x7fb3e2c5d410>)"
      ]
     },
     "execution_count": 26,
     "metadata": {},
     "output_type": "execute_result"
    },
    {
     "data": {
      "image/png": "[encoded data removed]",
      "text/plain": [
       "<Figure size 432x288 with 1 Axes>"
      ]
     },
     "metadata": {},
     "output_type": "display_data"
    }
   ],
   "source": [
    "plot_syn.plot_iterate('ex_complete/iterate.dat', var='fct')"
   ]
  },
  {
   "cell_type": "code",
   "execution_count": 27,
   "metadata": {},
   "outputs": [
    {
     "data": {
      "text/plain": [
       "(<Figure size 432x288 with 1 Axes>,\n",
       " <matplotlib.axes._subplots.AxesSubplot at 0x7fb3e09d6790>)"
      ]
     },
     "execution_count": 27,
     "metadata": {},
     "output_type": "execute_result"
    },
    {
     "data": {
      "image/png": "[encoded data removed]",
      "text/plain": [
       "<Figure size 432x288 with 1 Axes>"
      ]
     },
     "metadata": {},
     "output_type": "display_data"
    }
   ],
   "source": [
    "plot_syn.plot_iterate('ex_complete/iterate.dat', var='grad')"
   ]
  },
  {
   "cell_type": "markdown",
   "metadata": {},
   "source": [
    "### Since we were running an identical twin experiment, the retrieval procedure should be capable of recovering the \"true\" control vector"
   ]
  },
  {
   "cell_type": "code",
   "execution_count": 35,
   "metadata": {},
   "outputs": [
    {
     "data": {
      "text/plain": [
       "(<Figure size 432x288 with 1 Axes>,\n",
       " <matplotlib.axes._subplots.AxesSubplot at 0x7fb3e06b66d0>)"
      ]
     },
     "execution_count": 35,
     "metadata": {},
     "output_type": "execute_result"
    },
    {
     "data": {
      "image/png": "[encoded data removed]",
      "text/plain": [
       "<Figure size 432x288 with 1 Axes>"
      ]
     },
     "metadata": {},
     "output_type": "display_data"
    }
   ],
   "source": [
    "plot_syn.plot_state('lai', _dir='ex_complete')"
   ]
  },
  {
   "cell_type": "code",
   "execution_count": null,
   "metadata": {},
   "outputs": [],
   "source": []
  }
 ],
 "metadata": {
  "kernelspec": {
   "display_name": "Python 2",
   "language": "python",
   "name": "python2"
  },
  "language_info": {
   "codemirror_mode": {
    "name": "ipython",
    "version": 2
   },
   "file_extension": ".py",
   "mimetype": "text/x-python",
   "name": "python",
   "nbconvert_exporter": "python",
   "pygments_lexer": "ipython2",
   "version": "2.7.15rc1"
  }
 },
 "nbformat": 4,
 "nbformat_minor": 2
}
